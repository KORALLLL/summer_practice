{
  "cells": [
    {
      "cell_type": "markdown",
      "metadata": {
        "id": "view-in-github",
        "colab_type": "text"
      },
      "source": [
        "<a href=\"https://colab.research.google.com/github/KORALLLL/summer_practice/blob/main/projects/CNN_MNIST.ipynb\" target=\"_parent\"><img src=\"https://colab.research.google.com/assets/colab-badge.svg\" alt=\"Open In Colab\"/></a>"
      ]
    },
    {
      "cell_type": "markdown",
      "metadata": {
        "id": "8w9HPIuANRi-"
      },
      "source": [
        "<table>\n",
        "  <tr>\n",
        "    <th>layer</th>\n",
        "    <th>layer type2</th>\n",
        "    <th>feature maps</th>\n",
        "    <th>size</th>\n",
        "    <th>kernel size</th>\n",
        "    <th>stride</th>\n",
        "    <th>padding</th>\n",
        "    <th>activation</th>\n",
        "  </tr>\n",
        "  <tr>\n",
        "    <th>input</th>\n",
        "    <th>image</th>\n",
        "    <th>1</th>\n",
        "    <th>28*28</th>\n",
        "    <th>-</th>\n",
        "    <th>-</th>\n",
        "    <th>-</th>\n",
        "    <th>-</th>\n",
        "  </tr>\n",
        "  <tr>\n",
        "    <th>1</th>\n",
        "    <th>convoluation</th>\n",
        "    <th>6</th>\n",
        "    <th>28*28</th>\n",
        "    <th>3*3</th>\n",
        "    <th>1</th>\n",
        "    <th>1</th>\n",
        "    <th>-</th>\n",
        "  </tr>\n",
        "  <tr>\n",
        "    <th>2</th>\n",
        "    <th>convoluation</th>\n",
        "    <th>6</th>\n",
        "    <th>28*28</th>\n",
        "    <th>3*3</th>\n",
        "    <th>1</th>\n",
        "    <th>1</th>\n",
        "    <th>ReLU</th>\n",
        "  </tr>\n",
        "  <tr>\n",
        "    <th>3</th>\n",
        "    <th>average pooling</th>\n",
        "    <th>6</th>\n",
        "    <th>14*14</th>\n",
        "    <th>2*2</th>\n",
        "    <th>2</th>\n",
        "    <th>0</th>\n",
        "    <th>ReLU</th>\n",
        "  </tr>\n",
        "  <tr>\n",
        "    <th>4</th>\n",
        "    <th>convoluation</th>\n",
        "    <th>16</th>\n",
        "    <th>14*14</th>\n",
        "    <th>3*3</th>\n",
        "    <th>1</th>\n",
        "    <th>1</th>\n",
        "    <th>-</th>\n",
        "  </tr>\n",
        "  <tr>\n",
        "    <th>5</th>\n",
        "    <th>convoluation</th>\n",
        "    <th>16</th>\n",
        "    <th>14*14</th>\n",
        "    <th>3*3</th>\n",
        "    <th>1</th>\n",
        "    <th>1</th>\n",
        "    <th>ReLU</th>\n",
        "  </tr>\n",
        "  <tr>\n",
        "    <th>6</th>\n",
        "    <th>average pooling</th>\n",
        "    <th>16</th>\n",
        "    <th>13*13</th>\n",
        "    <th>2*2</th>\n",
        "    <th>1</th>\n",
        "    <th>0</th>\n",
        "    <th>ReLU</th>\n",
        "  </tr>\n",
        "    <tr>\n",
        "    <th>7</th>\n",
        "    <th>convoluation</th>\n",
        "    <th>32</th>\n",
        "    <th>11*11</th>\n",
        "    <th>3*3</th>\n",
        "    <th>1</th>\n",
        "    <th>0</th>\n",
        "    <th>-</th>\n",
        "  </tr>\n",
        "  <tr>\n",
        "    <th>8</th>\n",
        "    <th>convoluation</th>\n",
        "    <th>32</th>\n",
        "    <th>9*9</th>\n",
        "    <th>3*3</th>\n",
        "    <th>1</th>\n",
        "    <th>0</th>\n",
        "    <th>ReLU</th>\n",
        "  </tr>\n",
        "  <tr>\n",
        "    <th>9</th>\n",
        "    <th>average pooling</th>\n",
        "    <th>32</th>\n",
        "    <th>8*8</th>\n",
        "    <th>2*2</th>\n",
        "    <th>1</th>\n",
        "    <th>0</th>\n",
        "    <th>ReLU</th>\n",
        "  </tr>\n",
        "  </tr>\n",
        "  <tr>\n",
        "    <th>10</th>\n",
        "    <th>convoluation</th>\n",
        "    <th>64</th>\n",
        "    <th>8*8</th>\n",
        "    <th>3*3</th>\n",
        "    <th>1</th>\n",
        "    <th>1</th>\n",
        "    <th>-</th>\n",
        "  </tr>\n",
        "  <tr>\n",
        "    <th>11</th>\n",
        "    <th>convoluation</th>\n",
        "    <th>64</th>\n",
        "    <th>8*8</th>\n",
        "    <th>3*3</th>\n",
        "    <th>1</th>\n",
        "    <th>1</th>\n",
        "    <th>ReLU</th>\n",
        "  </tr>\n",
        "  <tr>\n",
        "    <th>12</th>\n",
        "    <th>average pooling</th>\n",
        "    <th>64</th>\n",
        "    <th>4*4</th>\n",
        "    <th>2*2</th>\n",
        "    <th>2</th>\n",
        "    <th>0</th>\n",
        "    <th>ReLU</th>\n",
        "  </tr>\n",
        "  <tr>\n",
        "    <th>13</th>\n",
        "    <th>fully connected</th>\n",
        "    <th>-</th>\n",
        "    <th>240</th>\n",
        "    <th>-</th>\n",
        "    <th>-</th>\n",
        "    <th>-</th>\n",
        "    <th>ReLU</th>\n",
        "  </tr>\n",
        "  <tr>\n",
        "    <th>14</th>\n",
        "    <th>fully connected</th>\n",
        "    <th>-</th>\n",
        "    <th>168</th>\n",
        "    <th>-</th>\n",
        "    <th>-</th>\n",
        "    <th>-</th>\n",
        "    <th>ReLU</th>\n",
        "  </tr>\n",
        "  <tr>\n",
        "    <th>output</th>\n",
        "    <th>fully connected</th>\n",
        "    <th>-</th>\n",
        "    <th>10</th>\n",
        "    <th>-</th>\n",
        "    <th>-</th>\n",
        "    <th>-</th>\n",
        "    <th>-</th>\n",
        "  </tr>\n",
        "</table>\n"
      ]
    },
    {
      "cell_type": "markdown",
      "metadata": {
        "id": "GuzQWu6RNcJ0"
      },
      "source": [
        "датасет: MNIST\n",
        "\n",
        "размер обучающей выборки:60000\n",
        "\n",
        "размер тестирующей выборки: 10000\n",
        "\n",
        "функция потерь: кросс энтропия\n",
        "\n",
        "оптимизатор: Адам\n",
        "\n",
        "скорость обучение: 0.001\n",
        "\n",
        "размер батча: 1000\n",
        "\n",
        "количество эпох: 200\n",
        "\n",
        "количество парамтеров модели: 361080\n"
      ]
    },
    {
      "cell_type": "code",
      "execution_count": 1,
      "metadata": {
        "colab": {
          "base_uri": "https://localhost:8080/"
        },
        "id": "UBCuVSGnNiI7",
        "outputId": "9eec044d-c578-4287-e280-7ec4d8b7e415"
      },
      "outputs": [
        {
          "output_type": "stream",
          "name": "stdout",
          "text": [
            "361080\n"
          ]
        }
      ],
      "source": [
        "import torch\n",
        "import torchvision.datasets\n",
        "import numpy as np\n",
        "from tqdm import tqdm_notebook as bar\n",
        "\n",
        "mnist_train = torchvision.datasets.MNIST('./', download = True, train = True)\n",
        "mnist_test = torchvision.datasets.MNIST('./', download = True, train = False)\n",
        "\n",
        "device = torch.device('cuda:0' if torch.cuda.is_available() else 'cpu')\n",
        "\n",
        "train_data = mnist_train.data.unsqueeze(1).float().to(device)\n",
        "train_labels = mnist_train.targets.to(device)\n",
        "test_data = mnist_test.data.unsqueeze(1).float().to(device)\n",
        "test_labels = mnist_test.targets.to(device)\n",
        "\n",
        "train_accuracy_history = []\n",
        "test_accuracy_history = []\n",
        "\n",
        "class LeNet(torch.nn.Module):\n",
        "  def __init__(self):\n",
        "    super(LeNet, self).__init__()\n",
        "    self.conv1 = torch.nn.Conv2d(in_channels = 1, out_channels = 6, kernel_size = 3, padding = 1)\n",
        "    self.conv2 = torch.nn.Conv2d(in_channels = 6, out_channels = 6, kernel_size = 3, padding = 1)\n",
        "    self.act1 = torch.nn.ReLU()\n",
        "    self.pool1 = torch.nn.AvgPool2d(kernel_size = 2, stride = 2)\n",
        "    self.act2 = torch.nn.ReLU()\n",
        "    self.conv3 = torch.nn.Conv2d(in_channels = 6, out_channels = 16, kernel_size = 3, padding = 1)\n",
        "    self.conv4 = torch.nn.Conv2d(in_channels = 16, out_channels = 16, kernel_size = 3, padding = 1)\n",
        "    self.act3 = torch.nn.ReLU()\n",
        "    self.pool2 = torch.nn.AvgPool2d(kernel_size = 2, stride = 1)\n",
        "    self.act4 = torch.nn.ReLU()\n",
        "    self.conv5 = torch.nn.Conv2d(in_channels = 16, out_channels = 32, kernel_size = 3, padding = 0)\n",
        "    self.conv6 = torch.nn.Conv2d(in_channels = 32, out_channels = 32, kernel_size = 3, padding = 0)\n",
        "    self.act5 = torch.nn.ReLU()\n",
        "    self.pool3 = torch.nn.AvgPool2d(kernel_size = 2, stride = 1)\n",
        "    self.act6 = torch.nn.ReLU()\n",
        "    self.conv7 = torch.nn.Conv2d(in_channels = 32, out_channels = 64, kernel_size = 3, padding = 1)\n",
        "    self.conv8 = torch.nn.Conv2d(in_channels = 64, out_channels = 64, kernel_size = 3, padding = 1)\n",
        "    self.act7 = torch.nn.ReLU()\n",
        "    self.pool4 = torch.nn.AvgPool2d(kernel_size = 2, stride = 2)\n",
        "    self.act8 = torch.nn.ReLU()\n",
        "    self.fc1 = torch.nn.Linear(64*4*4, 240)\n",
        "    self.act9 = torch.nn.ReLU()\n",
        "    self.fc2 = torch.nn.Linear(240, 168)\n",
        "    self.act10 = torch.nn.ReLU()\n",
        "    self.fc3 = torch.nn.Linear(168, 10)\n",
        "\n",
        "\n",
        "  def forward(self, x):\n",
        "    x = self.conv1(x)\n",
        "    x = self.conv2(x)\n",
        "    x = self.act1(x)\n",
        "    x = self.pool1(x)\n",
        "    x = self.act2(x)\n",
        "    x = self.conv3(x)\n",
        "    x = self.conv4(x)\n",
        "    x = self.act3(x)\n",
        "    x = self.pool2(x)\n",
        "    x = self.act4(x)\n",
        "    x = self.conv5(x)\n",
        "    x = self.conv6(x)\n",
        "    x = self.act5(x)\n",
        "    x = self.pool3(x)\n",
        "    x = self.act6(x)\n",
        "    x = self.conv7(x)\n",
        "    x = self.conv8(x)\n",
        "    x = self.act7(x)\n",
        "    x = self.pool4(x)\n",
        "    x = self.act8(x)\n",
        "    x = x.view(x.size(0), x.size(1)*x.size(2)*x.size(3))\n",
        "    x = self.fc1(x)\n",
        "    x = self.act9(x)\n",
        "    x = self.fc2(x)\n",
        "    x = self.act10(x)\n",
        "    x = self.fc3(x)\n",
        "    return x\n",
        "\n",
        "lenet = LeNet().to(device)\n",
        "\n",
        "loss = torch.nn.CrossEntropyLoss()\n",
        "\n",
        "optimizer = torch.optim.Adam(lenet.parameters(), lr = 0.001)\n",
        "\n",
        "batch_size = 1000\n",
        "\n",
        "print(sum(p.numel() for p in lenet.parameters()))"
      ]
    },
    {
      "cell_type": "code",
      "execution_count": 2,
      "metadata": {
        "colab": {
          "base_uri": "https://localhost:8080/",
          "height": 101,
          "referenced_widgets": [
            "b8bd04ba22f54c1db3d3b43461603fd8",
            "9213749e9a2a45df8d04f35345135094",
            "bbd4e849bfca4592b7291a9f7d779bd1",
            "ab8dc2bed6be43f2a2455e080e42d242",
            "657e293ff8a641f79dbb083eb34a4ac4",
            "a98f2f6022104fb78f5910a98b371bda",
            "3907f98e1d084609915bf4e59e5b6db5",
            "1983f54cc5c0462aadcc424525e62e87",
            "2373418254594578a40195b70bf4f84f",
            "9d36ab60bcde461181dcf7a4a8b642a7",
            "ff7c8bce8dbc4edebd2af620f21f660a"
          ]
        },
        "id": "7Y9e2ZjpRmRa",
        "outputId": "67e97411-19e2-408e-a629-a4e5dec7cd14"
      },
      "outputs": [
        {
          "output_type": "stream",
          "name": "stderr",
          "text": [
            "<ipython-input-2-c0754ae010de>:1: TqdmDeprecationWarning: This function will be removed in tqdm==5.0.0\n",
            "Please use `tqdm.notebook.tqdm` instead of `tqdm.tqdm_notebook`\n",
            "  for epoch in bar(range(200), desc = 'learning'):\n"
          ]
        },
        {
          "output_type": "display_data",
          "data": {
            "text/plain": [
              "learning:   0%|          | 0/200 [00:00<?, ?it/s]"
            ],
            "application/vnd.jupyter.widget-view+json": {
              "version_major": 2,
              "version_minor": 0,
              "model_id": "b8bd04ba22f54c1db3d3b43461603fd8"
            }
          },
          "metadata": {}
        }
      ],
      "source": [
        "for epoch in bar(range(200), desc = 'learning'):\n",
        "  order = np.random.permutation(len(train_data))\n",
        "\n",
        "  for start_index in range(0, len(train_data), batch_size):\n",
        "    optimizer.zero_grad()\n",
        "\n",
        "    batch_indexes = order[start_index:start_index+batch_size]\n",
        "\n",
        "    train_data_batch = train_data[batch_indexes].to(device)\n",
        "    train_labels_batch = train_labels[batch_indexes].to(device)\n",
        "\n",
        "    preds = lenet.forward(train_data_batch)\n",
        "\n",
        "    loss_val = loss(preds, train_labels_batch)\n",
        "    loss_val.backward()\n",
        "\n",
        "    optimizer.step()\n",
        "\n",
        "  train_preds = 0\n",
        "\n",
        "  for start_index in range(0, len(train_data), batch_size):\n",
        "    batch_indexes = order[start_index:start_index + batch_size]\n",
        "\n",
        "    train_data_batch = train_data[batch_indexes].to(device)\n",
        "    train_labels_batch = train_labels[batch_indexes].to(device)\n",
        "\n",
        "    preds = lenet.forward(train_data_batch)\n",
        "\n",
        "    train_preds += (preds.argmax(dim=1) == train_labels_batch).float().sum().data.cpu()\n",
        "\n",
        "  test_preds = lenet.forward(test_data)\n",
        "\n",
        "  train_accuracy_history.append(train_preds/60000)\n",
        "  test_accuracy_history.append((test_preds.argmax(dim = 1) == test_labels).float().mean().data.cpu())"
      ]
    },
    {
      "cell_type": "code",
      "execution_count": 3,
      "metadata": {
        "colab": {
          "base_uri": "https://localhost:8080/",
          "height": 545
        },
        "id": "uNstoI-tUg3L",
        "outputId": "f7b94d53-4e0d-4e60-9cbc-41e2ded8a47c"
      },
      "outputs": [
        {
          "output_type": "execute_result",
          "data": {
            "text/plain": [
              "<matplotlib.legend.Legend at 0x7fbddabc6cb0>"
            ]
          },
          "metadata": {},
          "execution_count": 3
        },
        {
          "output_type": "display_data",
          "data": {
            "text/plain": [
              "<Figure size 1600x600 with 1 Axes>"
            ],
            "image/png": "[encoded data removed]"
          },
          "metadata": {}
        }
      ],
      "source": [
        "import matplotlib.pyplot as plt\n",
        "import matplotlib\n",
        "\n",
        "matplotlib.rcParams['figure.figsize'] = (16.0, 6.0)\n",
        "\n",
        "plt.plot(range(200), train_accuracy_history, c='cyan', label = 'train accuracy')\n",
        "plt.plot(range(200), test_accuracy_history, c = 'lime', label = 'test_accuracy')\n",
        "plt.xlabel('epoch')\n",
        "plt.ylabel('accuracy')\n",
        "plt.title('accuracy of net')\n",
        "plt.legend(loc = 'lower right')"
      ]
    },
    {
      "cell_type": "code",
      "source": [
        "plt.plot(range(200), train_accuracy_history, c='cyan', label = 'train accuracy')\n",
        "plt.plot(range(200), test_accuracy_history, c = 'lime', label = 'test_accuracy')\n",
        "plt.xlabel('epoch')\n",
        "plt.ylabel('accuracy')\n",
        "plt.title('accuracy of epoch 150-200')\n",
        "plt.legend(loc = 'lower right')\n",
        "plt.xlim(150, 200)\n",
        "plt.ylim(0.99, 1.02)"
      ],
      "metadata": {
        "colab": {
          "base_uri": "https://localhost:8080/",
          "height": 539
        },
        "id": "y1IJjkTL9noQ",
        "outputId": "f4d8233d-9cee-4f0b-c6d6-b69ed3317039"
      },
      "execution_count": 6,
      "outputs": [
        {
          "output_type": "execute_result",
          "data": {
            "text/plain": [
              "(0.99, 1.02)"
            ]
          },
          "metadata": {},
          "execution_count": 6
        },
        {
          "output_type": "display_data",
          "data": {
            "text/plain": [
              "<Figure size 1600x600 with 1 Axes>"
            ],
            "image/png": "[encoded data removed]"
          },
          "metadata": {}
        }
      ]
    },
    {
      "cell_type": "code",
      "source": [
        "plt.plot(range(200), train_accuracy_history, c='cyan', label = 'train accuracy')\n",
        "plt.plot(range(200), test_accuracy_history, c = 'lime', label = 'test_accuracy')\n",
        "plt.xlabel('epoch')\n",
        "plt.ylabel('accuracy')\n",
        "plt.title('accuracy of test on epoch 150-200')\n",
        "plt.legend(loc = 'lower right')\n",
        "plt.xlim(140, 200)\n",
        "plt.ylim(0.99275, 0.99375)"
      ],
      "metadata": {
        "colab": {
          "base_uri": "https://localhost:8080/",
          "height": 536
        },
        "id": "9ZwT20Wl97dV",
        "outputId": "852b0ea5-56d8-4cf2-c685-e2d1ad0d9fb8"
      },
      "execution_count": 10,
      "outputs": [
        {
          "output_type": "execute_result",
          "data": {
            "text/plain": [
              "(0.99275, 0.99375)"
            ]
          },
          "metadata": {},
          "execution_count": 10
        },
        {
          "output_type": "display_data",
          "data": {
            "text/plain": [
              "<Figure size 1600x600 with 1 Axes>"
            ],
            "image/png": "[encoded data removed]"
          },
          "metadata": {}
        }
      ]
    }
  ],
  "metadata": {
    "accelerator": "GPU",
    "colab": {
      "provenance": [],
      "gpuType": "T4",
      "authorship_tag": "ABX9TyOAW7SKnmb4jPuYy52Wl953",
      "include_colab_link": true
    },
    "kernelspec": {
      "display_name": "Python 3",
      "name": "python3"
    },
    "language_info": {
      "name": "python"
    },
    "widgets": {
      "application/vnd.jupyter.widget-state+json": {
        "b8bd04ba22f54c1db3d3b43461603fd8": {
          "model_module": "@jupyter-widgets/controls",
          "model_name": "HBoxModel",
          "model_module_version": "1.5.0",
          "state": {
            "_dom_classes": [],
            "_model_module": "@jupyter-widgets/controls",
            "_model_module_version": "1.5.0",
            "_model_name": "HBoxModel",
            "_view_count": null,
            "_view_module": "@jupyter-widgets/controls",
            "_view_module_version": "1.5.0",
            "_view_name": "HBoxView",
            "box_style": "",
            "children": [
              "IPY_MODEL_9213749e9a2a45df8d04f35345135094",
              "IPY_MODEL_bbd4e849bfca4592b7291a9f7d779bd1",
              "IPY_MODEL_ab8dc2bed6be43f2a2455e080e42d242"
            ],
            "layout": "IPY_MODEL_657e293ff8a641f79dbb083eb34a4ac4"
          }
        },
        "9213749e9a2a45df8d04f35345135094": {
          "model_module": "@jupyter-widgets/controls",
          "model_name": "HTMLModel",
          "model_module_version": "1.5.0",
          "state": {
            "_dom_classes": [],
            "_model_module": "@jupyter-widgets/controls",
            "_model_module_version": "1.5.0",
            "_model_name": "HTMLModel",
            "_view_count": null,
            "_view_module": "@jupyter-widgets/controls",
            "_view_module_version": "1.5.0",
            "_view_name": "HTMLView",
            "description": "",
            "description_tooltip": null,
            "layout": "IPY_MODEL_a98f2f6022104fb78f5910a98b371bda",
            "placeholder": "​",
            "style": "IPY_MODEL_3907f98e1d084609915bf4e59e5b6db5",
            "value": "learning: 100%"
          }
        },
        "bbd4e849bfca4592b7291a9f7d779bd1": {
          "model_module": "@jupyter-widgets/controls",
          "model_name": "FloatProgressModel",
          "model_module_version": "1.5.0",
          "state": {
            "_dom_classes": [],
            "_model_module": "@jupyter-widgets/controls",
            "_model_module_version": "1.5.0",
            "_model_name": "FloatProgressModel",
            "_view_count": null,
            "_view_module": "@jupyter-widgets/controls",
            "_view_module_version": "1.5.0",
            "_view_name": "ProgressView",
            "bar_style": "success",
            "description": "",
            "description_tooltip": null,
            "layout": "IPY_MODEL_1983f54cc5c0462aadcc424525e62e87",
            "max": 200,
            "min": 0,
            "orientation": "horizontal",
            "style": "IPY_MODEL_2373418254594578a40195b70bf4f84f",
            "value": 200
          }
        },
        "ab8dc2bed6be43f2a2455e080e42d242": {
          "model_module": "@jupyter-widgets/controls",
          "model_name": "HTMLModel",
          "model_module_version": "1.5.0",
          "state": {
            "_dom_classes": [],
            "_model_module": "@jupyter-widgets/controls",
            "_model_module_version": "1.5.0",
            "_model_name": "HTMLModel",
            "_view_count": null,
            "_view_module": "@jupyter-widgets/controls",
            "_view_module_version": "1.5.0",
            "_view_name": "HTMLView",
            "description": "",
            "description_tooltip": null,
            "layout": "IPY_MODEL_9d36ab60bcde461181dcf7a4a8b642a7",
            "placeholder": "​",
            "style": "IPY_MODEL_ff7c8bce8dbc4edebd2af620f21f660a",
            "value": " 200/200 [07:38&lt;00:00,  2.29s/it]"
          }
        },
        "657e293ff8a641f79dbb083eb34a4ac4": {
          "model_module": "@jupyter-widgets/base",
          "model_name": "LayoutModel",
          "model_module_version": "1.2.0",
          "state": {
            "_model_module": "@jupyter-widgets/base",
            "_model_module_version": "1.2.0",
            "_model_name": "LayoutModel",
            "_view_count": null,
            "_view_module": "@jupyter-widgets/base",
            "_view_module_version": "1.2.0",
            "_view_name": "LayoutView",
            "align_content": null,
            "align_items": null,
            "align_self": null,
            "border": null,
            "bottom": null,
            "display": null,
            "flex": null,
            "flex_flow": null,
            "grid_area": null,
            "grid_auto_columns": null,
            "grid_auto_flow": null,
            "grid_auto_rows": null,
            "grid_column": null,
            "grid_gap": null,
            "grid_row": null,
            "grid_template_areas": null,
            "grid_template_columns": null,
            "grid_template_rows": null,
            "height": null,
            "justify_content": null,
            "justify_items": null,
            "left": null,
            "margin": null,
            "max_height": null,
            "max_width": null,
            "min_height": null,
            "min_width": null,
            "object_fit": null,
            "object_position": null,
            "order": null,
            "overflow": null,
            "overflow_x": null,
            "overflow_y": null,
            "padding": null,
            "right": null,
            "top": null,
            "visibility": null,
            "width": null
          }
        },
        "a98f2f6022104fb78f5910a98b371bda": {
          "model_module": "@jupyter-widgets/base",
          "model_name": "LayoutModel",
          "model_module_version": "1.2.0",
          "state": {
            "_model_module": "@jupyter-widgets/base",
            "_model_module_version": "1.2.0",
            "_model_name": "LayoutModel",
            "_view_count": null,
            "_view_module": "@jupyter-widgets/base",
            "_view_module_version": "1.2.0",
            "_view_name": "LayoutView",
            "align_content": null,
            "align_items": null,
            "align_self": null,
            "border": null,
            "bottom": null,
            "display": null,
            "flex": null,
            "flex_flow": null,
            "grid_area": null,
            "grid_auto_columns": null,
            "grid_auto_flow": null,
            "grid_auto_rows": null,
            "grid_column": null,
            "grid_gap": null,
            "grid_row": null,
            "grid_template_areas": null,
            "grid_template_columns": null,
            "grid_template_rows": null,
            "height": null,
            "justify_content": null,
            "justify_items": null,
            "left": null,
            "margin": null,
            "max_height": null,
            "max_width": null,
            "min_height": null,
            "min_width": null,
            "object_fit": null,
            "object_position": null,
            "order": null,
            "overflow": null,
            "overflow_x": null,
            "overflow_y": null,
            "padding": null,
            "right": null,
            "top": null,
            "visibility": null,
            "width": null
          }
        },
        "3907f98e1d084609915bf4e59e5b6db5": {
          "model_module": "@jupyter-widgets/controls",
          "model_name": "DescriptionStyleModel",
          "model_module_version": "1.5.0",
          "state": {
            "_model_module": "@jupyter-widgets/controls",
            "_model_module_version": "1.5.0",
            "_model_name": "DescriptionStyleModel",
            "_view_count": null,
            "_view_module": "@jupyter-widgets/base",
            "_view_module_version": "1.2.0",
            "_view_name": "StyleView",
            "description_width": ""
          }
        },
        "1983f54cc5c0462aadcc424525e62e87": {
          "model_module": "@jupyter-widgets/base",
          "model_name": "LayoutModel",
          "model_module_version": "1.2.0",
          "state": {
            "_model_module": "@jupyter-widgets/base",
            "_model_module_version": "1.2.0",
            "_model_name": "LayoutModel",
            "_view_count": null,
            "_view_module": "@jupyter-widgets/base",
            "_view_module_version": "1.2.0",
            "_view_name": "LayoutView",
            "align_content": null,
            "align_items": null,
            "align_self": null,
            "border": null,
            "bottom": null,
            "display": null,
            "flex": null,
            "flex_flow": null,
            "grid_area": null,
            "grid_auto_columns": null,
            "grid_auto_flow": null,
            "grid_auto_rows": null,
            "grid_column": null,
            "grid_gap": null,
            "grid_row": null,
            "grid_template_areas": null,
            "grid_template_columns": null,
            "grid_template_rows": null,
            "height": null,
            "justify_content": null,
            "justify_items": null,
            "left": null,
            "margin": null,
            "max_height": null,
            "max_width": null,
            "min_height": null,
            "min_width": null,
            "object_fit": null,
            "object_position": null,
            "order": null,
            "overflow": null,
            "overflow_x": null,
            "overflow_y": null,
            "padding": null,
            "right": null,
            "top": null,
            "visibility": null,
            "width": null
          }
        },
        "2373418254594578a40195b70bf4f84f": {
          "model_module": "@jupyter-widgets/controls",
          "model_name": "ProgressStyleModel",
          "model_module_version": "1.5.0",
          "state": {
            "_model_module": "@jupyter-widgets/controls",
            "_model_module_version": "1.5.0",
            "_model_name": "ProgressStyleModel",
            "_view_count": null,
            "_view_module": "@jupyter-widgets/base",
            "_view_module_version": "1.2.0",
            "_view_name": "StyleView",
            "bar_color": null,
            "description_width": ""
          }
        },
        "9d36ab60bcde461181dcf7a4a8b642a7": {
          "model_module": "@jupyter-widgets/base",
          "model_name": "LayoutModel",
          "model_module_version": "1.2.0",
          "state": {
            "_model_module": "@jupyter-widgets/base",
            "_model_module_version": "1.2.0",
            "_model_name": "LayoutModel",
            "_view_count": null,
            "_view_module": "@jupyter-widgets/base",
            "_view_module_version": "1.2.0",
            "_view_name": "LayoutView",
            "align_content": null,
            "align_items": null,
            "align_self": null,
            "border": null,
            "bottom": null,
            "display": null,
            "flex": null,
            "flex_flow": null,
            "grid_area": null,
            "grid_auto_columns": null,
            "grid_auto_flow": null,
            "grid_auto_rows": null,
            "grid_column": null,
            "grid_gap": null,
            "grid_row": null,
            "grid_template_areas": null,
            "grid_template_columns": null,
            "grid_template_rows": null,
            "height": null,
            "justify_content": null,
            "justify_items": null,
            "left": null,
            "margin": null,
            "max_height": null,
            "max_width": null,
            "min_height": null,
            "min_width": null,
            "object_fit": null,
            "object_position": null,
            "order": null,
            "overflow": null,
            "overflow_x": null,
            "overflow_y": null,
            "padding": null,
            "right": null,
            "top": null,
            "visibility": null,
            "width": null
          }
        },
        "ff7c8bce8dbc4edebd2af620f21f660a": {
          "model_module": "@jupyter-widgets/controls",
          "model_name": "DescriptionStyleModel",
          "model_module_version": "1.5.0",
          "state": {
            "_model_module": "@jupyter-widgets/controls",
            "_model_module_version": "1.5.0",
            "_model_name": "DescriptionStyleModel",
            "_view_count": null,
            "_view_module": "@jupyter-widgets/base",
            "_view_module_version": "1.2.0",
            "_view_name": "StyleView",
            "description_width": ""
          }
        }
      }
    }
  },
  "nbformat": 4,
  "nbformat_minor": 0
}