{
  "nbformat": 4,
  "nbformat_minor": 0,
  "metadata": {
    "colab": {
      "provenance": [],
      "gpuType": "T4",
      "authorship_tag": "ABX9TyMInakSeZtKRFNZGy6YPjQy",
      "include_colab_link": true
    },
    "kernelspec": {
      "name": "python3",
      "display_name": "Python 3"
    },
    "language_info": {
      "name": "python"
    },
    "widgets": {
      "application/vnd.jupyter.widget-state+json": {
        "ea50486e35fe4bbaa62b8c0e6209a835": {
          "model_module": "@jupyter-widgets/controls",
          "model_name": "HBoxModel",
          "model_module_version": "1.5.0",
          "state": {
            "_dom_classes": [],
            "_model_module": "@jupyter-widgets/controls",
            "_model_module_version": "1.5.0",
            "_model_name": "HBoxModel",
            "_view_count": null,
            "_view_module": "@jupyter-widgets/controls",
            "_view_module_version": "1.5.0",
            "_view_name": "HBoxView",
            "box_style": "",
            "children": [
              "IPY_MODEL_9e82ca32bb304ef0b6c54922e325c06c",
              "IPY_MODEL_66c1600721dc4e3e9ceb2bdcc2d2e16f",
              "IPY_MODEL_18719f3271b64a82a8ff0dba9db43683"
            ],
            "layout": "IPY_MODEL_8386b4f624ea4efb8f8e2141b68b6a6b"
          }
        },
        "9e82ca32bb304ef0b6c54922e325c06c": {
          "model_module": "@jupyter-widgets/controls",
          "model_name": "HTMLModel",
          "model_module_version": "1.5.0",
          "state": {
            "_dom_classes": [],
            "_model_module": "@jupyter-widgets/controls",
            "_model_module_version": "1.5.0",
            "_model_name": "HTMLModel",
            "_view_count": null,
            "_view_module": "@jupyter-widgets/controls",
            "_view_module_version": "1.5.0",
            "_view_name": "HTMLView",
            "description": "",
            "description_tooltip": null,
            "layout": "IPY_MODEL_9ad0476d3b8d4555a858e38352c4327c",
            "placeholder": "​",
            "style": "IPY_MODEL_cf8e4cb681004eed8d0222ea7fe63447",
            "value": "learning: 100%"
          }
        },
        "66c1600721dc4e3e9ceb2bdcc2d2e16f": {
          "model_module": "@jupyter-widgets/controls",
          "model_name": "FloatProgressModel",
          "model_module_version": "1.5.0",
          "state": {
            "_dom_classes": [],
            "_model_module": "@jupyter-widgets/controls",
            "_model_module_version": "1.5.0",
            "_model_name": "FloatProgressModel",
            "_view_count": null,
            "_view_module": "@jupyter-widgets/controls",
            "_view_module_version": "1.5.0",
            "_view_name": "ProgressView",
            "bar_style": "success",
            "description": "",
            "description_tooltip": null,
            "layout": "IPY_MODEL_02eba9f0709840fc91e33bc2aee7e05f",
            "max": 10000,
            "min": 0,
            "orientation": "horizontal",
            "style": "IPY_MODEL_ef4c5ec4d7a2492b9721a18465f2a5c0",
            "value": 10000
          }
        },
        "18719f3271b64a82a8ff0dba9db43683": {
          "model_module": "@jupyter-widgets/controls",
          "model_name": "HTMLModel",
          "model_module_version": "1.5.0",
          "state": {
            "_dom_classes": [],
            "_model_module": "@jupyter-widgets/controls",
            "_model_module_version": "1.5.0",
            "_model_name": "HTMLModel",
            "_view_count": null,
            "_view_module": "@jupyter-widgets/controls",
            "_view_module_version": "1.5.0",
            "_view_name": "HTMLView",
            "description": "",
            "description_tooltip": null,
            "layout": "IPY_MODEL_5d98520697d1402ab912d53410949a98",
            "placeholder": "​",
            "style": "IPY_MODEL_55473ece19254a6a90cb4ef8bf22ef1e",
            "value": " 10000/10000 [00:23&lt;00:00, 435.38it/s]"
          }
        },
        "8386b4f624ea4efb8f8e2141b68b6a6b": {
          "model_module": "@jupyter-widgets/base",
          "model_name": "LayoutModel",
          "model_module_version": "1.2.0",
          "state": {
            "_model_module": "@jupyter-widgets/base",
            "_model_module_version": "1.2.0",
            "_model_name": "LayoutModel",
            "_view_count": null,
            "_view_module": "@jupyter-widgets/base",
            "_view_module_version": "1.2.0",
            "_view_name": "LayoutView",
            "align_content": null,
            "align_items": null,
            "align_self": null,
            "border": null,
            "bottom": null,
            "display": null,
            "flex": null,
            "flex_flow": null,
            "grid_area": null,
            "grid_auto_columns": null,
            "grid_auto_flow": null,
            "grid_auto_rows": null,
            "grid_column": null,
            "grid_gap": null,
            "grid_row": null,
            "grid_template_areas": null,
            "grid_template_columns": null,
            "grid_template_rows": null,
            "height": null,
            "justify_content": null,
            "justify_items": null,
            "left": null,
            "margin": null,
            "max_height": null,
            "max_width": null,
            "min_height": null,
            "min_width": null,
            "object_fit": null,
            "object_position": null,
            "order": null,
            "overflow": null,
            "overflow_x": null,
            "overflow_y": null,
            "padding": null,
            "right": null,
            "top": null,
            "visibility": null,
            "width": null
          }
        },
        "9ad0476d3b8d4555a858e38352c4327c": {
          "model_module": "@jupyter-widgets/base",
          "model_name": "LayoutModel",
          "model_module_version": "1.2.0",
          "state": {
            "_model_module": "@jupyter-widgets/base",
            "_model_module_version": "1.2.0",
            "_model_name": "LayoutModel",
            "_view_count": null,
            "_view_module": "@jupyter-widgets/base",
            "_view_module_version": "1.2.0",
            "_view_name": "LayoutView",
            "align_content": null,
            "align_items": null,
            "align_self": null,
            "border": null,
            "bottom": null,
            "display": null,
            "flex": null,
            "flex_flow": null,
            "grid_area": null,
            "grid_auto_columns": null,
            "grid_auto_flow": null,
            "grid_auto_rows": null,
            "grid_column": null,
            "grid_gap": null,
            "grid_row": null,
            "grid_template_areas": null,
            "grid_template_columns": null,
            "grid_template_rows": null,
            "height": null,
            "justify_content": null,
            "justify_items": null,
            "left": null,
            "margin": null,
            "max_height": null,
            "max_width": null,
            "min_height": null,
            "min_width": null,
            "object_fit": null,
            "object_position": null,
            "order": null,
            "overflow": null,
            "overflow_x": null,
            "overflow_y": null,
            "padding": null,
            "right": null,
            "top": null,
            "visibility": null,
            "width": null
          }
        },
        "cf8e4cb681004eed8d0222ea7fe63447": {
          "model_module": "@jupyter-widgets/controls",
          "model_name": "DescriptionStyleModel",
          "model_module_version": "1.5.0",
          "state": {
            "_model_module": "@jupyter-widgets/controls",
            "_model_module_version": "1.5.0",
            "_model_name": "DescriptionStyleModel",
            "_view_count": null,
            "_view_module": "@jupyter-widgets/base",
            "_view_module_version": "1.2.0",
            "_view_name": "StyleView",
            "description_width": ""
          }
        },
        "02eba9f0709840fc91e33bc2aee7e05f": {
          "model_module": "@jupyter-widgets/base",
          "model_name": "LayoutModel",
          "model_module_version": "1.2.0",
          "state": {
            "_model_module": "@jupyter-widgets/base",
            "_model_module_version": "1.2.0",
            "_model_name": "LayoutModel",
            "_view_count": null,
            "_view_module": "@jupyter-widgets/base",
            "_view_module_version": "1.2.0",
            "_view_name": "LayoutView",
            "align_content": null,
            "align_items": null,
            "align_self": null,
            "border": null,
            "bottom": null,
            "display": null,
            "flex": null,
            "flex_flow": null,
            "grid_area": null,
            "grid_auto_columns": null,
            "grid_auto_flow": null,
            "grid_auto_rows": null,
            "grid_column": null,
            "grid_gap": null,
            "grid_row": null,
            "grid_template_areas": null,
            "grid_template_columns": null,
            "grid_template_rows": null,
            "height": null,
            "justify_content": null,
            "justify_items": null,
            "left": null,
            "margin": null,
            "max_height": null,
            "max_width": null,
            "min_height": null,
            "min_width": null,
            "object_fit": null,
            "object_position": null,
            "order": null,
            "overflow": null,
            "overflow_x": null,
            "overflow_y": null,
            "padding": null,
            "right": null,
            "top": null,
            "visibility": null,
            "width": null
          }
        },
        "ef4c5ec4d7a2492b9721a18465f2a5c0": {
          "model_module": "@jupyter-widgets/controls",
          "model_name": "ProgressStyleModel",
          "model_module_version": "1.5.0",
          "state": {
            "_model_module": "@jupyter-widgets/controls",
            "_model_module_version": "1.5.0",
            "_model_name": "ProgressStyleModel",
            "_view_count": null,
            "_view_module": "@jupyter-widgets/base",
            "_view_module_version": "1.2.0",
            "_view_name": "StyleView",
            "bar_color": null,
            "description_width": ""
          }
        },
        "5d98520697d1402ab912d53410949a98": {
          "model_module": "@jupyter-widgets/base",
          "model_name": "LayoutModel",
          "model_module_version": "1.2.0",
          "state": {
            "_model_module": "@jupyter-widgets/base",
            "_model_module_version": "1.2.0",
            "_model_name": "LayoutModel",
            "_view_count": null,
            "_view_module": "@jupyter-widgets/base",
            "_view_module_version": "1.2.0",
            "_view_name": "LayoutView",
            "align_content": null,
            "align_items": null,
            "align_self": null,
            "border": null,
            "bottom": null,
            "display": null,
            "flex": null,
            "flex_flow": null,
            "grid_area": null,
            "grid_auto_columns": null,
            "grid_auto_flow": null,
            "grid_auto_rows": null,
            "grid_column": null,
            "grid_gap": null,
            "grid_row": null,
            "grid_template_areas": null,
            "grid_template_columns": null,
            "grid_template_rows": null,
            "height": null,
            "justify_content": null,
            "justify_items": null,
            "left": null,
            "margin": null,
            "max_height": null,
            "max_width": null,
            "min_height": null,
            "min_width": null,
            "object_fit": null,
            "object_position": null,
            "order": null,
            "overflow": null,
            "overflow_x": null,
            "overflow_y": null,
            "padding": null,
            "right": null,
            "top": null,
            "visibility": null,
            "width": null
          }
        },
        "55473ece19254a6a90cb4ef8bf22ef1e": {
          "model_module": "@jupyter-widgets/controls",
          "model_name": "DescriptionStyleModel",
          "model_module_version": "1.5.0",
          "state": {
            "_model_module": "@jupyter-widgets/controls",
            "_model_module_version": "1.5.0",
            "_model_name": "DescriptionStyleModel",
            "_view_count": null,
            "_view_module": "@jupyter-widgets/base",
            "_view_module_version": "1.2.0",
            "_view_name": "StyleView",
            "description_width": ""
          }
        }
      }
    }
  },
  "cells": [
    {
      "cell_type": "markdown",
      "metadata": {
        "id": "view-in-github",
        "colab_type": "text"
      },
      "source": [
        "<a href=\"https://colab.research.google.com/github/KORALLLL/summer_practice/blob/main/projects/Classification_type_net.ipynb\" target=\"_parent\"><img src=\"https://colab.research.google.com/assets/colab-badge.svg\" alt=\"Open In Colab\"/></a>"
      ]
    },
    {
      "cell_type": "markdown",
      "source": [
        "# Создание классифицирующей нейронной сети"
      ],
      "metadata": {
        "id": "vztYEG5QDI-2"
      }
    },
    {
      "cell_type": "markdown",
      "source": [
        "Будем использовать датасет wine для классификации вин. В данной версии нейросети будем классифицировать по первому признаку."
      ],
      "metadata": {
        "id": "TjqP8DlmDRNG"
      }
    },
    {
      "cell_type": "markdown",
      "source": [
        "## importation modules"
      ],
      "metadata": {
        "id": "9XNrT3BEDmfe"
      }
    },
    {
      "cell_type": "code",
      "source": [
        "!pip install tqdm"
      ],
      "metadata": {
        "colab": {
          "base_uri": "https://localhost:8080/"
        },
        "id": "Jv4kbX26L3kO",
        "outputId": "80bdf614-bc1b-435f-9d02-d5ff54199b42"
      },
      "execution_count": 3,
      "outputs": [
        {
          "output_type": "stream",
          "name": "stdout",
          "text": [
            "Looking in indexes: https://pypi.org/simple, https://us-python.pkg.dev/colab-wheels/public/simple/\n",
            "Requirement already satisfied: tqdm in /usr/local/lib/python3.10/dist-packages (4.65.0)\n"
          ]
        }
      ]
    },
    {
      "cell_type": "code",
      "source": [
        "import torch\n",
        "import random\n",
        "import numpy as np\n",
        "from tqdm import tqdm_notebook as tqdm"
      ],
      "metadata": {
        "id": "N1BmpCn0Dvds"
      },
      "execution_count": 2,
      "outputs": []
    },
    {
      "cell_type": "markdown",
      "source": [
        "## dataset"
      ],
      "metadata": {
        "id": "JND-Qv4lD0tg"
      }
    },
    {
      "cell_type": "code",
      "source": [
        "import sklearn.datasets\n",
        "from sklearn.model_selection import train_test_split\n",
        "\n",
        "wine = sklearn.datasets.load_wine()\n",
        "\n",
        "x_train, x_test, y_train, y_test = train_test_split(\n",
        "    wine.data[:, :2],\n",
        "    wine.target,\n",
        "    test_size = 0.3,\n",
        "    shuffle = True\n",
        ")\n",
        "x_train = torch.FloatTensor(x_train)\n",
        "x_test = torch.FloatTensor(x_test)\n",
        "y_train = torch.LongTensor(y_train)\n",
        "y_test = torch.LongTensor(y_test)"
      ],
      "metadata": {
        "id": "WDKquJG5D2CK"
      },
      "execution_count": 4,
      "outputs": []
    },
    {
      "cell_type": "markdown",
      "source": [
        "## construction net"
      ],
      "metadata": {
        "id": "7cXqJbbEF_-u"
      }
    },
    {
      "cell_type": "code",
      "source": [
        "class Net(torch.nn.Module):\n",
        "  def __init__(self, nn_hidden_neurons):\n",
        "    super(Net, self).__init__()\n",
        "    self.fc1 = torch.nn.Linear(2, nn_hidden_neurons)\n",
        "    self.act1 = torch.nn.Sigmoid()\n",
        "    self.fc2 = torch.nn.Linear(nn_hidden_neurons, nn_hidden_neurons)\n",
        "    self.act2 = torch.nn.Sigmoid()\n",
        "    self.fc3 = torch.nn.Linear(nn_hidden_neurons, 3)\n",
        "    self.softmax = torch.nn.Softmax(dim = 1)\n",
        "\n",
        "  def forward(self, x):\n",
        "    x = self.fc1(x)\n",
        "    x = self.act1(x)\n",
        "    x = self.fc2(x)\n",
        "    x = self.act2(x)\n",
        "    x = self.fc3(x)\n",
        "    return(x)\n",
        "\n",
        "  def inference(self, x):\n",
        "    x = self.forward(x)\n",
        "    x = self.softmax(x)\n",
        "    return x\n",
        "\n",
        "wine_net = Net(9)"
      ],
      "metadata": {
        "id": "Vn_efEitGC00"
      },
      "execution_count": 5,
      "outputs": []
    },
    {
      "cell_type": "markdown",
      "source": [
        "## loss function"
      ],
      "metadata": {
        "id": "Jtl38j4RIhTn"
      }
    },
    {
      "cell_type": "code",
      "source": [
        "loss = torch.nn.CrossEntropyLoss()"
      ],
      "metadata": {
        "id": "rIgRcRkmIkYr"
      },
      "execution_count": 6,
      "outputs": []
    },
    {
      "cell_type": "markdown",
      "source": [
        "## optimizer"
      ],
      "metadata": {
        "id": "N5Ny2nO3Irn2"
      }
    },
    {
      "cell_type": "code",
      "source": [
        "optimizer = torch.optim.Adam(wine_net.parameters(), lr = 0.001)"
      ],
      "metadata": {
        "id": "fhrY3WXeItKE"
      },
      "execution_count": 7,
      "outputs": []
    },
    {
      "cell_type": "markdown",
      "source": [
        "## training procedure"
      ],
      "metadata": {
        "id": "OTgpMFRwJCR2"
      }
    },
    {
      "cell_type": "code",
      "source": [
        "batch = 100\n",
        "\n",
        "for epoch in tqdm(range(10000), desc = 'learning'):\n",
        "  order = np.random.permutation(len(x_train))\n",
        "\n",
        "  for start_index in range(0, len(x_train), batch):\n",
        "    optimizer.zero_grad()\n",
        "\n",
        "    batch_indexes = order[start_index:start_index + batch]\n",
        "\n",
        "    x_batch = x_train[batch_indexes]\n",
        "    y_batch = y_train[batch_indexes]\n",
        "\n",
        "    preds = wine_net.forward(x_batch)\n",
        "    loss_val = loss(preds, y_batch)\n",
        "    loss_val.backward()\n",
        "\n",
        "    optimizer.step()"
      ],
      "metadata": {
        "colab": {
          "base_uri": "https://localhost:8080/",
          "height": 101,
          "referenced_widgets": [
            "ea50486e35fe4bbaa62b8c0e6209a835",
            "9e82ca32bb304ef0b6c54922e325c06c",
            "66c1600721dc4e3e9ceb2bdcc2d2e16f",
            "18719f3271b64a82a8ff0dba9db43683",
            "8386b4f624ea4efb8f8e2141b68b6a6b",
            "9ad0476d3b8d4555a858e38352c4327c",
            "cf8e4cb681004eed8d0222ea7fe63447",
            "02eba9f0709840fc91e33bc2aee7e05f",
            "ef4c5ec4d7a2492b9721a18465f2a5c0",
            "5d98520697d1402ab912d53410949a98",
            "55473ece19254a6a90cb4ef8bf22ef1e"
          ]
        },
        "id": "pk2-lLnwJDsq",
        "outputId": "67dff67f-e517-4de1-e758-37dd277a84e0"
      },
      "execution_count": 77,
      "outputs": [
        {
          "output_type": "stream",
          "name": "stderr",
          "text": [
            "<ipython-input-77-77e977316cbc>:3: TqdmDeprecationWarning: This function will be removed in tqdm==5.0.0\n",
            "Please use `tqdm.notebook.tqdm` instead of `tqdm.tqdm_notebook`\n",
            "  for epoch in tqdm(range(10000), desc = 'learning'):\n"
          ]
        },
        {
          "output_type": "display_data",
          "data": {
            "text/plain": [
              "learning:   0%|          | 0/10000 [00:00<?, ?it/s]"
            ],
            "application/vnd.jupyter.widget-view+json": {
              "version_major": 2,
              "version_minor": 0,
              "model_id": "ea50486e35fe4bbaa62b8c0e6209a835"
            }
          },
          "metadata": {}
        }
      ]
    },
    {
      "cell_type": "markdown",
      "source": [
        "## visualisation"
      ],
      "metadata": {
        "id": "CEYvtCDTP7KP"
      }
    },
    {
      "cell_type": "code",
      "source": [
        "import matplotlib.pyplot as plt\n",
        "%matplotlib inline\n",
        "\n",
        "plt.rcParams['figure.figsize'] = (10, 8)\n",
        "\n",
        "n_classes = 3\n",
        "plot_colors = ['g', 'orange', 'black']\n",
        "plot_step = 0.02\n",
        "\n",
        "x_min, x_max = x_train[:, 0].min() - 1, x_train[:, 0].max() + 1\n",
        "y_min, y_max = x_train[:, 1].min() - 1, x_train[:, 1].max() + 1\n",
        "\n",
        "xx, yy =  torch.meshgrid(torch.arange(x_min, x_max, plot_step),\n",
        "                         torch.arange(y_min, y_max, plot_step))\n",
        "\n",
        "preds = wine_net.inference(\n",
        "    torch.cat([xx.reshape(-1, 1), yy.reshape(-1, 1)], dim=1))\n",
        "\n",
        "preds_class = preds.data.numpy().argmax(axis=1)\n",
        "preds_class = preds_class.reshape(xx.shape)\n",
        "plt.contourf(xx, yy, preds_class, cmap='Accent')\n",
        "\n",
        "for i, color in zip(range(n_classes), plot_colors):\n",
        "    indexes = np.where(y_train == i)\n",
        "    plt.scatter(x_train[indexes, 0],\n",
        "                x_train[indexes, 1],\n",
        "                c=color,\n",
        "                label=wine.target_names[i],\n",
        "                cmap='Accent')\n",
        "    plt.xlabel(wine.feature_names[0])\n",
        "    plt.ylabel(wine.feature_names[1])\n",
        "    plt.legend()"
      ],
      "metadata": {
        "colab": {
          "base_uri": "https://localhost:8080/",
          "height": 731
        },
        "id": "jwapCvC-P8fX",
        "outputId": "4a2ac5b1-3fee-48dd-e470-be9ab64db786"
      },
      "execution_count": 76,
      "outputs": [
        {
          "output_type": "stream",
          "name": "stderr",
          "text": [
            "<ipython-input-76-d650adc3593a>:25: UserWarning: No data for colormapping provided via 'c'. Parameters 'cmap' will be ignored\n",
            "  plt.scatter(x_train[indexes, 0],\n"
          ]
        },
        {
          "output_type": "display_data",
          "data": {
            "text/plain": [
              "<Figure size 1000x800 with 1 Axes>"
            ],
            "image/png": "[encoded data removed]"
          },
          "metadata": {}
        }
      ]
    },
    {
      "cell_type": "markdown",
      "source": [
        "## accuracy"
      ],
      "metadata": {
        "id": "3HryJEXJeDJP"
      }
    },
    {
      "cell_type": "code",
      "source": [
        "x = np.concatenate([x_train.numpy(), x_test.numpy()])\n",
        "y = torch.from_numpy(np.concatenate([y_train.numpy(), y_test.numpy()]))\n",
        "predicts = wine_net.inference(torch.from_numpy(x))\n",
        "predicts = predicts.argmax(dim = 1)\n",
        "sum(predicts == y)/ len(predicts)"
      ],
      "metadata": {
        "colab": {
          "base_uri": "https://localhost:8080/"
        },
        "id": "T1G_EdG4eI6p",
        "outputId": "05092ac3-04b1-4fed-8ccf-7a675454584c"
      },
      "execution_count": 78,
      "outputs": [
        {
          "output_type": "execute_result",
          "data": {
            "text/plain": [
              "tensor(0.8483)"
            ]
          },
          "metadata": {},
          "execution_count": 78
        }
      ]
    }
  ]
}