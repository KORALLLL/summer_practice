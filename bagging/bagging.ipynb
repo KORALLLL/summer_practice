{
  "cells": [
    {
      "cell_type": "markdown",
      "metadata": {
        "colab_type": "text",
        "id": "view-in-github"
      },
      "source": [
        "<a href=\"https://colab.research.google.com/github/KORALLLL/summer_practice/blob/main/bagging/bagging.ipynb\" target=\"_parent\"><img src=\"https://colab.research.google.com/assets/colab-badge.svg\" alt=\"Open In Colab\"/></a>"
      ]
    },
    {
      "cell_type": "markdown",
      "metadata": {
        "id": "tyIkSpGuHJCc"
      },
      "source": [
        "# Нейросетевой ансамбль"
      ]
    },
    {
      "cell_type": "markdown",
      "metadata": {},
      "source": [
        "# Конфигурации сетей"
      ]
    },
    {
      "cell_type": "markdown",
      "metadata": {
        "id": "kYBHClYdHLsq"
      },
      "source": [
        "## Параметры первой сети"
      ]
    },
    {
      "cell_type": "markdown",
      "metadata": {
        "id": "6-EhtdcBHhKH"
      },
      "source": [
        "датасет: MNIST[0:6000]\n",
        "\n",
        "размер обучающей выборки: 6000(сырого) + 14000(аугментаций)\n",
        "\n",
        "размер тестирующей выборки: 10000\n",
        "\n",
        "количество скрытых слоёв: 2\n",
        "\n",
        "количество нейронов в скрытых слоя: 250\n",
        "\n",
        "функция активации: сигмоида\n",
        "\n",
        "функция потерь: кросс энтропия\n",
        "\n",
        "оптимизатор: RMSprop\n",
        "\n",
        "скорость обучение: 0.001\n",
        "\n",
        "размер батча: 1000\n",
        "\n",
        "количество эпох: 500"
      ]
    },
    {
      "cell_type": "markdown",
      "metadata": {
        "id": "K8mhZZiaHQIf"
      },
      "source": [
        "## Параметры второй сети"
      ]
    },
    {
      "cell_type": "markdown",
      "metadata": {
        "id": "6gOrm-W3H8U5"
      },
      "source": [
        "датасет: MNIST[6000:12000]\n",
        "\n",
        "размер обучающей выборки: 6000(сырого) + 14000(аугментаций)\n",
        "\n",
        "размер тестирующей выборки: 10000\n",
        "\n",
        "количество скрытых слоёв: 3\n",
        "\n",
        "количество нейронов в скрытых слоя: 200\n",
        "\n",
        "функция активации: сигмоида\n",
        "\n",
        "функция потерь: кросс энтропия\n",
        "\n",
        "оптимизатор: RMSprop\n",
        "\n",
        "скорость обучение: 0.001\n",
        "\n",
        "размер батча: 1000\n",
        "\n",
        "количество эпох: 700\n"
      ]
    },
    {
      "cell_type": "markdown",
      "metadata": {
        "id": "hUphp8XhHStV"
      },
      "source": [
        "## Параметры третьей сети"
      ]
    },
    {
      "cell_type": "markdown",
      "metadata": {
        "id": "5OdOs_epIMOX"
      },
      "source": [
        "датасет: MNIST[12000:18000]\n",
        "\n",
        "размер обучающей выборки: 6000(сырого) + 14000(аугментаций)\n",
        "\n",
        "размер тестирующей выборки: 10000\n",
        "\n",
        "количество скрытых слоёв: 2\n",
        "\n",
        "количество нейронов в скрытых слоя: 250\n",
        "\n",
        "функция активации: сигмоида\n",
        "\n",
        "функция потерь: кросс энтропия\n",
        "\n",
        "оптимизатор: SGD\n",
        "\n",
        "скорость обучение: 0.01\n",
        "\n",
        "импульс: 0.9\n",
        "\n",
        "размер батча: 1000\n",
        "\n",
        "количество эпох: 5400"
      ]
    },
    {
      "cell_type": "markdown",
      "metadata": {
        "id": "Ur_dRJB_HVLz"
      },
      "source": [
        "## Параметры четвёртой сети"
      ]
    },
    {
      "cell_type": "markdown",
      "metadata": {
        "id": "BuulCg2jIaDR"
      },
      "source": [
        "датасет: MNIST[18000:24000]\n",
        "\n",
        "размер обучающей выборки: 6000(сырого) + 14000(аугментаций)\n",
        "\n",
        "размер тестирующей выборки: 10000\n",
        "\n",
        "количество скрытых слоёв: 3\n",
        "\n",
        "количество нейронов в скрытых слоя: 200\n",
        "\n",
        "функция активации: сигмоида\n",
        "\n",
        "функция потерь: кросс энтропия\n",
        "\n",
        "оптимизатор: SGD\n",
        "\n",
        "скорость обучение: 0.01\n",
        "\n",
        "импульс: 0.9\n",
        "\n",
        "размер батча: 1000\n",
        "\n",
        "количество эпох: 830\n"
      ]
    },
    {
      "cell_type": "markdown",
      "metadata": {
        "id": "NFCWaXd4HXCF"
      },
      "source": [
        "## Параметры пятой сети"
      ]
    },
    {
      "cell_type": "markdown",
      "metadata": {
        "id": "7uvQpJDeIjVy"
      },
      "source": [
        "датасет: MNIST[24000:30000]\n",
        "\n",
        "размер обучающей выборки: 6000(сырого) + 14000(аугментаций)\n",
        "\n",
        "размер тестирующей выборки: 10000\n",
        "\n",
        "количество скрытых слоёв: 2\n",
        "\n",
        "количество нейронов в скрытых слоя: 250\n",
        "\n",
        "функция активации: сигмоида\n",
        "\n",
        "функция потерь: кросс энтропия\n",
        "\n",
        "оптимизатор: RMSprop\n",
        "\n",
        "скорость обучение: 0.001\n",
        "\n",
        "размер батча: 500\n",
        "\n",
        "количество эпох: 400\n"
      ]
    },
    {
      "cell_type": "markdown",
      "metadata": {
        "id": "8fo-Na3EHZJr"
      },
      "source": [
        "## Параметры шестой сети"
      ]
    },
    {
      "cell_type": "markdown",
      "metadata": {
        "id": "tsxR1TqH6urf"
      },
      "source": [
        "датасет: MNIST[30000:36000]\n",
        "\n",
        "размер обучающей выборки: 6000(сырого) + 14000(аугментаций)\n",
        "\n",
        "размер тестирующей выборки: 10000\n",
        "\n",
        "количество скрытых слоёв: 3\n",
        "\n",
        "количество нейронов в скрытых слояx: 250\n",
        "\n",
        "функция активации: сигмоида\n",
        "\n",
        "функция потерь: кросс энтропия\n",
        "\n",
        "оптимизатор: RMSprop\n",
        "\n",
        "скорость обучение: 0.001\n",
        "\n",
        "размер батча: 2000\n",
        "\n",
        "количество эпох: 600\n"
      ]
    },
    {
      "cell_type": "markdown",
      "metadata": {
        "id": "IDcNopmHHanr"
      },
      "source": [
        "## Параметры седьмой сети"
      ]
    },
    {
      "cell_type": "markdown",
      "metadata": {
        "id": "nz4faz127HeF"
      },
      "source": [
        "датасет: MNIST[36000:42000]\n",
        "\n",
        "размер обучающей выборки: 6000(сырого) + 14000(аугментаций)\n",
        "\n",
        "размер тестирующей выборки: 10000\n",
        "\n",
        "количество скрытых слоёв: 4\n",
        "\n",
        "количество нейронов в скрытых слояx: 300\n",
        "\n",
        "функция активации: сигмоида\n",
        "\n",
        "функция потерь: кросс энтропия\n",
        "\n",
        "оптимизатор: RMSprop\n",
        "\n",
        "скорость обучение: 0.001\n",
        "\n",
        "размер батча: 1000\n",
        "\n",
        "количество эпох: 500\n"
      ]
    },
    {
      "cell_type": "markdown",
      "metadata": {
        "id": "52J5PtbqHcNd"
      },
      "source": [
        "## Параметры восьмой сети"
      ]
    },
    {
      "cell_type": "markdown",
      "metadata": {
        "id": "4sT-TjWs7lem"
      },
      "source": [
        "датасет: MNIST[42000:48000]\n",
        "\n",
        "размер обучающей выборки: 6000(сырого) + 14000(аугментаций)\n",
        "\n",
        "размер тестирующей выборки: 10000\n",
        "\n",
        "количество скрытых слоёв: 3\n",
        "\n",
        "количество нейронов в скрытых слояx: 300\n",
        "\n",
        "функция активации: сигмоида\n",
        "\n",
        "функция потерь: кросс энтропия\n",
        "\n",
        "оптимизатор: Adam\n",
        "\n",
        "скорость обучение: 0.001\n",
        "\n",
        "размер батча: 2000\n",
        "\n",
        "количество эпох: 200\n"
      ]
    },
    {
      "cell_type": "markdown",
      "metadata": {
        "id": "6JgVrkJwHdxl"
      },
      "source": [
        "## Параметры девятой сети"
      ]
    },
    {
      "cell_type": "markdown",
      "metadata": {
        "id": "JZo3dwQU77Jl"
      },
      "source": [
        "датасет: MNIST[48000:54000]\n",
        "\n",
        "размер обучающей выборки: 6000(сырого) + 14000(аугментаций)\n",
        "\n",
        "размер тестирующей выборки: 10000\n",
        "\n",
        "количество скрытых слоёв: 2\n",
        "\n",
        "количество нейронов в скрытых слояx: 200\n",
        "\n",
        "функция активации: сигмоида\n",
        "\n",
        "функция потерь: кросс энтропия\n",
        "\n",
        "оптимизатор: Adam\n",
        "\n",
        "скорость обучение: 0.001\n",
        "\n",
        "размер батча: 2000\n",
        "\n",
        "количество эпох: 700\n"
      ]
    },
    {
      "cell_type": "markdown",
      "metadata": {
        "id": "v2K62X4lHfgE"
      },
      "source": [
        "## Параметры десятой сети"
      ]
    },
    {
      "cell_type": "markdown",
      "metadata": {
        "id": "WGUO7U_38jCz"
      },
      "source": [
        "датасет: MNIST[54000:60000]\n",
        "\n",
        "размер обучающей выборки: 6000(сырого) + 14000(аугментаций)\n",
        "\n",
        "размер тестирующей выборки: 10000\n",
        "\n",
        "количество скрытых слоёв: 2\n",
        "\n",
        "количество нейронов в скрытых слояx: 250\n",
        "\n",
        "функция активации: сигмоида\n",
        "\n",
        "функция потерь: кросс энтропия\n",
        "\n",
        "оптимизатор: SGD\n",
        "\n",
        "скорость обучение: 0.01\n",
        "\n",
        "импульс: 0.7\n",
        "\n",
        "размер батча: 2000\n",
        "\n",
        "количество эпох: 1000\n"
      ]
    },
    {
      "cell_type": "markdown",
      "metadata": {},
      "source": [
        "# Создание ансамбля"
      ]
    },
    {
      "cell_type": "markdown",
      "metadata": {},
      "source": [
        "## Импортирование моделей и их претестирование"
      ]
    },
    {
      "cell_type": "code",
      "execution_count": 18,
      "metadata": {},
      "outputs": [],
      "source": [
        "import torch\n",
        "import torchvision.datasets\n",
        "from fc_nn._1net4bagging import MNISTNet as MNISTNet1\n",
        "from fc_nn._2net4bagging import MNISTNet as MNISTNet2\n",
        "from fc_nn._3net4bagging import MNISTNet as MNISTNet3\n",
        "from fc_nn._4net4bagging import MNISTNet as MNISTNet4\n",
        "from fc_nn._5net4bagging import MNISTNet as MNISTNet5\n",
        "from fc_nn._6net4bagging import MNISTNet as MNISTNet6\n",
        "from fc_nn._7net4bagging import MNISTNet as MNISTNet7\n",
        "from fc_nn._8net4bagging import MNISTNet as MNISTNet8\n",
        "from fc_nn._9net4bagging import MNISTNet as MNISTNet9\n",
        "from fc_nn._10net4bagging import MNISTNet as MNISTNet10"
      ]
    },
    {
      "cell_type": "code",
      "execution_count": 15,
      "metadata": {},
      "outputs": [
        {
          "name": "stdout",
          "output_type": "stream",
          "text": [
            "tensor(0.9649)\n"
          ]
        }
      ],
      "source": [
        "device = torch.device('cuda:0' if torch.cuda.is_available() else 'cpu')\n",
        "\n",
        "mnist_test = torchvision.datasets.MNIST('./', download = False, train = False)\n",
        "test_data = mnist_test.data.float().reshape([-1, 28*28]).to(device)\n",
        "test_labels = mnist_test.targets.to(device)"
      ]
    },
    {
      "cell_type": "code",
      "execution_count": 16,
      "metadata": {},
      "outputs": [
        {
          "name": "stdout",
          "output_type": "stream",
          "text": [
            "tensor(0.9649)\n"
          ]
        }
      ],
      "source": [
        "net1 = MNISTNet1().to(device)\n",
        "net1.load_state_dict(torch.load('parameters/parameters_1net4bagging.pth', map_location=device))\n",
        "test_preds = net1.forward(test_data)\n",
        "print(((test_preds.argmax(dim=1) == test_labels).float().mean().cpu().data))"
      ]
    },
    {
      "cell_type": "code",
      "execution_count": 19,
      "metadata": {},
      "outputs": [
        {
          "name": "stdout",
          "output_type": "stream",
          "text": [
            "tensor(0.9581)\n"
          ]
        }
      ],
      "source": [
        "net2 = MNISTNet2().to(device)\n",
        "net2.load_state_dict(torch.load('parameters/parameters_2net4bagging.pth', map_location=device))\n",
        "test_preds = net2.forward(test_data)\n",
        "print(((test_preds.argmax(dim=1) == test_labels).float().mean().cpu().data))"
      ]
    },
    {
      "cell_type": "code",
      "execution_count": 20,
      "metadata": {},
      "outputs": [
        {
          "name": "stdout",
          "output_type": "stream",
          "text": [
            "tensor(0.9563)\n"
          ]
        }
      ],
      "source": [
        "net3 = MNISTNet3().to(device)\n",
        "net3.load_state_dict(torch.load('parameters/parameters_3net4bagging.pth', map_location=device))\n",
        "test_preds = net3.forward(test_data)\n",
        "print(((test_preds.argmax(dim=1) == test_labels).float().mean().cpu().data))"
      ]
    },
    {
      "cell_type": "code",
      "execution_count": 21,
      "metadata": {},
      "outputs": [
        {
          "name": "stdout",
          "output_type": "stream",
          "text": [
            "tensor(0.9405)\n"
          ]
        }
      ],
      "source": [
        "net4 = MNISTNet4().to(device)\n",
        "net4.load_state_dict(torch.load('parameters/parameters_4net4bagging.pth', map_location=device))\n",
        "test_preds = net4.forward(test_data)\n",
        "print(((test_preds.argmax(dim=1) == test_labels).float().mean().cpu().data))"
      ]
    },
    {
      "cell_type": "code",
      "execution_count": 22,
      "metadata": {},
      "outputs": [
        {
          "name": "stdout",
          "output_type": "stream",
          "text": [
            "tensor(0.9656)\n"
          ]
        }
      ],
      "source": [
        "net5 = MNISTNet5().to(device)\n",
        "net5.load_state_dict(torch.load('parameters/parameters_5net4bagging.pth', map_location=device))\n",
        "test_preds = net5.forward(test_data)\n",
        "print(((test_preds.argmax(dim=1) == test_labels).float().mean().cpu().data))"
      ]
    },
    {
      "cell_type": "code",
      "execution_count": 23,
      "metadata": {},
      "outputs": [
        {
          "name": "stdout",
          "output_type": "stream",
          "text": [
            "tensor(0.9613)\n"
          ]
        }
      ],
      "source": [
        "net6 = MNISTNet6().to(device)\n",
        "net6.load_state_dict(torch.load('parameters/parameters_6net4bagging.pth', map_location=device))\n",
        "test_preds = net6.forward(test_data)\n",
        "print(((test_preds.argmax(dim=1) == test_labels).float().mean().cpu().data))"
      ]
    },
    {
      "cell_type": "code",
      "execution_count": 26,
      "metadata": {},
      "outputs": [
        {
          "name": "stdout",
          "output_type": "stream",
          "text": [
            "tensor(0.9605)\n"
          ]
        }
      ],
      "source": [
        "net7 = MNISTNet7().to(device)\n",
        "net7.load_state_dict(torch.load('parameters/parameters_7net4bagging.pth', map_location=device))\n",
        "test_preds = net7.forward(test_data)\n",
        "print(((test_preds.argmax(dim=1) == test_labels).float().mean().cpu().data))"
      ]
    },
    {
      "cell_type": "code",
      "execution_count": 27,
      "metadata": {},
      "outputs": [
        {
          "name": "stdout",
          "output_type": "stream",
          "text": [
            "tensor(0.9624)\n"
          ]
        }
      ],
      "source": [
        "net8 = MNISTNet8().to(device)\n",
        "net8.load_state_dict(torch.load('parameters/parameters_8net4bagging.pth', map_location=device))\n",
        "test_preds = net8.forward(test_data)\n",
        "print(((test_preds.argmax(dim=1) == test_labels).float().mean().cpu().data))"
      ]
    },
    {
      "cell_type": "code",
      "execution_count": 28,
      "metadata": {},
      "outputs": [
        {
          "name": "stdout",
          "output_type": "stream",
          "text": [
            "tensor(0.9619)\n"
          ]
        }
      ],
      "source": [
        "net9 = MNISTNet9().to(device)\n",
        "net9.load_state_dict(torch.load('parameters/parameters_9net4bagging.pth', map_location=device))\n",
        "test_preds = net9.forward(test_data)\n",
        "print(((test_preds.argmax(dim=1) == test_labels).float().mean().cpu().data))"
      ]
    },
    {
      "cell_type": "code",
      "execution_count": 29,
      "metadata": {},
      "outputs": [
        {
          "name": "stdout",
          "output_type": "stream",
          "text": [
            "tensor(0.9617)\n"
          ]
        }
      ],
      "source": [
        "net10 = MNISTNet10().to(device)\n",
        "net10.load_state_dict(torch.load('parameters/parameters_10net4bagging.pth', map_location=device))\n",
        "test_preds = net10.forward(test_data)\n",
        "print(((test_preds.argmax(dim=1) == test_labels).float().mean().cpu().data))"
      ]
    },
    {
      "cell_type": "markdown",
      "metadata": {},
      "source": [
        "## Процедура голосования"
      ]
    },
    {
      "cell_type": "code",
      "execution_count": 89,
      "metadata": {},
      "outputs": [
        {
          "name": "stdout",
          "output_type": "stream",
          "text": [
            "Итоговая точность:  tensor(0.9794)\n"
          ]
        }
      ],
      "source": [
        "def net_vote(image):\n",
        "    ratio = [0.9649, 0.9581, 0.9563, 0.9405, 0.9656, 0.9613, 0.9605, 0.9624, 0.9619, 0.9617]\n",
        "    nets = [net1, net2, net3, net4, net5, net6, net7, net8, net9, net10]\n",
        "    result = [0]*10\n",
        "    for i in range(10):\n",
        "        preds = nets[i].forward(image)\n",
        "        result[preds.argmax().item()] += ratio[i]\n",
        "    return torch.Tensor(result).argmax()\n",
        "\n",
        "right_answers = 0\n",
        "for i in range(10000):\n",
        "    right_answers += (net_vote(test_data[i])==test_labels[i])\n",
        "print('Итоговая точность: ', right_answers/10000)"
      ]
    }
  ],
  "metadata": {
    "colab": {
      "include_colab_link": true,
      "provenance": []
    },
    "kernelspec": {
      "display_name": "Python 3",
      "name": "python3"
    },
    "language_info": {
      "codemirror_mode": {
        "name": "ipython",
        "version": 3
      },
      "file_extension": ".py",
      "mimetype": "text/x-python",
      "name": "python",
      "nbconvert_exporter": "python",
      "pygments_lexer": "ipython3",
      "version": "3.9.12"
    }
  },
  "nbformat": 4,
  "nbformat_minor": 0
}
