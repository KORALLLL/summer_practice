{
  "cells": [
    {
      "cell_type": "markdown",
      "metadata": {
        "id": "view-in-github",
        "colab_type": "text"
      },
      "source": [
        "<a href=\"https://colab.research.google.com/github/KORALLLL/summer_practice/blob/main/notebooks/neural_networks_and_computer_vision.ipynb\" target=\"_parent\"><img src=\"https://colab.research.google.com/assets/colab-badge.svg\" alt=\"Open In Colab\"/></a>"
      ]
    },
    {
      "cell_type": "markdown",
      "metadata": {
        "id": "2k5u5GonCCST"
      },
      "source": [
        "# Нейрон и нейронная сеть"
      ]
    },
    {
      "cell_type": "markdown",
      "metadata": {
        "id": "2rIs0S3ACCSW"
      },
      "source": [
        "## Математическая модель нейрона"
      ]
    },
    {
      "cell_type": "markdown",
      "metadata": {
        "id": "9uXSOKZICCSY"
      },
      "source": [
        "На вход нейрона подаются сигналы $$ x_1, x_2 ... x_n $$ Эти параметры умножаются на веса $$ w_1, w_2 ... w_n $$ Далее они передаются в нейрон(сумматор), в котором также есть параметр смещения b и получается сумма: $$ z = x_1*w_1 + x_2*w_2 + ... + x_n*w_n + b$$ Результат попадает в функцию активации $$ y=f(z)=f(x_1*w_1 + x_2*w_2 + ... + x_n*w_n + b)$$ Веса и смещения настриваемые параметры Также можно записать по-другому: $$ y = f(\\sum_{i=0}^{N-1} w_i*x_i + b)$$ Запись через скалярное произведение: $$y = f(<\\overrightarrow{w} \\overrightarrow{x}> + b)$$ Функция активации - пороговая. Пока не накопится достаточно заряда - ничего не происходит. когда накопится достаточно заряда - нейрон даёт сигнал.\n",
        "\\begin{equation*}\n",
        "f(z) =\n",
        " \\begin{cases}\n",
        "   0 &\\text{if z $\\leq 0$}\\\\\n",
        "   1&\\text{if z $>0$}\n",
        " \\end{cases}\n",
        "\\end{equation*}\n",
        "Место, где функция будем менять своё значение с нуля на единицу - разделяющая поверхность.\n",
        "Разделяющая поверхность находится там, где аргумент функции равен нулю. Она задаётся вектором $\\overrightarrow{w}$ и смещение b\n",
        "\n",
        "Сигмоида $$\\sigma(x) = \\frac{1}{1+e^{-x}}$$\n",
        "\\begin{equation*}\n",
        " \\begin{cases}\n",
        "   x \\rightarrow \\infty: \\sigma(x) \\rightarrow 1\\\\\n",
        "   x \\rightarrow -\\infty: \\sigma(x) \\rightarrow 0\\\\\n",
        "   0 < \\sigma(x) < 1\n",
        " \\end{cases}\n",
        "\\end{equation*}"
      ]
    },
    {
      "cell_type": "markdown",
      "metadata": {
        "id": "RERgCp3pCCSb"
      },
      "source": [
        "## Булевы операции в виде нейронов"
      ]
    },
    {
      "cell_type": "markdown",
      "metadata": {
        "id": "AvEK_bzgCCSc"
      },
      "source": [
        "### Нейрон \"Не\""
      ]
    },
    {
      "cell_type": "markdown",
      "metadata": {
        "id": "UHtSdBuJCCSc"
      },
      "source": [
        "\\begin{equation*}\n",
        " \\begin{cases}\n",
        "   w*0 + b > 0 \\\\\n",
        "   w*1 + b \\leq 0\n",
        " \\end{cases}\n",
        "\\end{equation*}\n",
        "\n",
        "\\begin{equation*}\n",
        " \\begin{cases}\n",
        "   b > 0 \\\\\n",
        "   w \\leq -b\n",
        " \\end{cases}\n",
        "\\end{equation*}"
      ]
    },
    {
      "cell_type": "markdown",
      "metadata": {
        "id": "8R6ipa4MCCSd"
      },
      "source": [
        "### нейрон \"И\""
      ]
    },
    {
      "cell_type": "code",
      "execution_count": null,
      "metadata": {
        "id": "QVLYA0HHCCSf",
        "outputId": "dc76e336-5702-41f9-95a7-5f304ab6f3bf"
      },
      "outputs": [
        {
          "data": {
            "text/html": [
              "<div>\n",
              "<style scoped>\n",
              "    .dataframe tbody tr th:only-of-type {\n",
              "        vertical-align: middle;\n",
              "    }\n",
              "\n",
              "    .dataframe tbody tr th {\n",
              "        vertical-align: top;\n",
              "    }\n",
              "\n",
              "    .dataframe thead th {\n",
              "        text-align: right;\n",
              "    }\n",
              "</style>\n",
              "<table border=\"1\" class=\"dataframe\">\n",
              "  <thead>\n",
              "    <tr style=\"text-align: right;\">\n",
              "      <th></th>\n",
              "      <th>x1</th>\n",
              "      <th>x2</th>\n",
              "      <th>x1 &amp; x2</th>\n",
              "    </tr>\n",
              "  </thead>\n",
              "  <tbody>\n",
              "    <tr>\n",
              "      <th>.</th>\n",
              "      <td>1</td>\n",
              "      <td>1</td>\n",
              "      <td>1</td>\n",
              "    </tr>\n",
              "    <tr>\n",
              "      <th>.</th>\n",
              "      <td>1</td>\n",
              "      <td>0</td>\n",
              "      <td>0</td>\n",
              "    </tr>\n",
              "    <tr>\n",
              "      <th>.</th>\n",
              "      <td>0</td>\n",
              "      <td>1</td>\n",
              "      <td>0</td>\n",
              "    </tr>\n",
              "    <tr>\n",
              "      <th>.</th>\n",
              "      <td>0</td>\n",
              "      <td>0</td>\n",
              "      <td>0</td>\n",
              "    </tr>\n",
              "  </tbody>\n",
              "</table>\n",
              "</div>"
            ],
            "text/plain": [
              "   x1  x2  x1 & x2\n",
              ".   1   1        1\n",
              ".   1   0        0\n",
              ".   0   1        0\n",
              ".   0   0        0"
            ]
          },
          "execution_count": 14,
          "metadata": {},
          "output_type": "execute_result"
        }
      ],
      "source": [
        "import pandas as pd\n",
        "s1 = pd.Series([1,1,0,0], name = 'x1')\n",
        "s2 = pd.Series([1,0,1,0], name = 'x2')\n",
        "s3 = pd.Series([1,0,0,0], name = 'x1 & x2')\n",
        "df = pd.DataFrame([s1,s2,s3]).T\n",
        "df.index = ['.','.','.','.']\n",
        "df"
      ]
    },
    {
      "cell_type": "markdown",
      "metadata": {
        "id": "SUCX54MSCCSh"
      },
      "source": [
        "\\begin{equation*}\n",
        " \\begin{cases}\n",
        "   w_1 + w_2 + b > 0 \\\\\n",
        "   w_1 + b \\leq 0 \\\\\n",
        "   w_2 + b \\leq 0 \\\\\n",
        "   b \\leq 0\n",
        " \\end{cases}\n",
        "\\end{equation*}"
      ]
    },
    {
      "cell_type": "markdown",
      "metadata": {
        "id": "mNQEEriGCCSi"
      },
      "source": [
        "### оператор \"ИЛИ\""
      ]
    },
    {
      "cell_type": "code",
      "execution_count": null,
      "metadata": {
        "id": "jhFiZmQJCCSi",
        "outputId": "8ca2801f-dade-496e-ac95-d7429bf3036b"
      },
      "outputs": [
        {
          "data": {
            "text/html": [
              "<div>\n",
              "<style scoped>\n",
              "    .dataframe tbody tr th:only-of-type {\n",
              "        vertical-align: middle;\n",
              "    }\n",
              "\n",
              "    .dataframe tbody tr th {\n",
              "        vertical-align: top;\n",
              "    }\n",
              "\n",
              "    .dataframe thead th {\n",
              "        text-align: right;\n",
              "    }\n",
              "</style>\n",
              "<table border=\"1\" class=\"dataframe\">\n",
              "  <thead>\n",
              "    <tr style=\"text-align: right;\">\n",
              "      <th></th>\n",
              "      <th>x1</th>\n",
              "      <th>x2</th>\n",
              "      <th>x1 &amp; x2</th>\n",
              "    </tr>\n",
              "  </thead>\n",
              "  <tbody>\n",
              "    <tr>\n",
              "      <th>.</th>\n",
              "      <td>1</td>\n",
              "      <td>1</td>\n",
              "      <td>1</td>\n",
              "    </tr>\n",
              "    <tr>\n",
              "      <th>.</th>\n",
              "      <td>1</td>\n",
              "      <td>0</td>\n",
              "      <td>1</td>\n",
              "    </tr>\n",
              "    <tr>\n",
              "      <th>.</th>\n",
              "      <td>0</td>\n",
              "      <td>1</td>\n",
              "      <td>1</td>\n",
              "    </tr>\n",
              "    <tr>\n",
              "      <th>.</th>\n",
              "      <td>0</td>\n",
              "      <td>0</td>\n",
              "      <td>0</td>\n",
              "    </tr>\n",
              "  </tbody>\n",
              "</table>\n",
              "</div>"
            ],
            "text/plain": [
              "   x1  x2  x1 & x2\n",
              ".   1   1        1\n",
              ".   1   0        1\n",
              ".   0   1        1\n",
              ".   0   0        0"
            ]
          },
          "execution_count": 15,
          "metadata": {},
          "output_type": "execute_result"
        }
      ],
      "source": [
        "import pandas as pd\n",
        "s1 = pd.Series([1,1,0,0], name = 'x1')\n",
        "s2 = pd.Series([1,0,1,0], name = 'x2')\n",
        "s3 = pd.Series([1,1,1,0], name = 'x1 & x2')\n",
        "df = pd.DataFrame([s1,s2,s3]).T\n",
        "df.index = ['.','.','.','.']\n",
        "df"
      ]
    },
    {
      "cell_type": "markdown",
      "metadata": {
        "id": "JcsDXRWZCCSj"
      },
      "source": [
        "\\begin{equation*}\n",
        " \\begin{cases}\n",
        "   w_1 + w_2 + b > 0 \\\\\n",
        "   w_1 + b > 0 \\\\\n",
        "   w_2 + b > 0 \\\\\n",
        "   b \\leq 0\n",
        " \\end{cases}\n",
        "\\end{equation*}"
      ]
    },
    {
      "cell_type": "markdown",
      "metadata": {
        "id": "wB_TzywPCCSj"
      },
      "source": [
        "### Исключающее \"ИЛИ\""
      ]
    },
    {
      "cell_type": "code",
      "execution_count": null,
      "metadata": {
        "id": "13a9k-7ECCSk",
        "outputId": "e529f3c7-7bed-40af-b3bd-74cf8a5d5ab1"
      },
      "outputs": [
        {
          "data": {
            "text/html": [
              "<div>\n",
              "<style scoped>\n",
              "    .dataframe tbody tr th:only-of-type {\n",
              "        vertical-align: middle;\n",
              "    }\n",
              "\n",
              "    .dataframe tbody tr th {\n",
              "        vertical-align: top;\n",
              "    }\n",
              "\n",
              "    .dataframe thead th {\n",
              "        text-align: right;\n",
              "    }\n",
              "</style>\n",
              "<table border=\"1\" class=\"dataframe\">\n",
              "  <thead>\n",
              "    <tr style=\"text-align: right;\">\n",
              "      <th></th>\n",
              "      <th>x1</th>\n",
              "      <th>x2</th>\n",
              "      <th>x1 &amp; x2</th>\n",
              "    </tr>\n",
              "  </thead>\n",
              "  <tbody>\n",
              "    <tr>\n",
              "      <th>.</th>\n",
              "      <td>1</td>\n",
              "      <td>1</td>\n",
              "      <td>0</td>\n",
              "    </tr>\n",
              "    <tr>\n",
              "      <th>.</th>\n",
              "      <td>1</td>\n",
              "      <td>0</td>\n",
              "      <td>1</td>\n",
              "    </tr>\n",
              "    <tr>\n",
              "      <th>.</th>\n",
              "      <td>0</td>\n",
              "      <td>1</td>\n",
              "      <td>1</td>\n",
              "    </tr>\n",
              "    <tr>\n",
              "      <th>.</th>\n",
              "      <td>0</td>\n",
              "      <td>0</td>\n",
              "      <td>0</td>\n",
              "    </tr>\n",
              "  </tbody>\n",
              "</table>\n",
              "</div>"
            ],
            "text/plain": [
              "   x1  x2  x1 & x2\n",
              ".   1   1        0\n",
              ".   1   0        1\n",
              ".   0   1        1\n",
              ".   0   0        0"
            ]
          },
          "execution_count": 16,
          "metadata": {},
          "output_type": "execute_result"
        }
      ],
      "source": [
        "import pandas as pd\n",
        "s1 = pd.Series([1,1,0,0], name = 'x1')\n",
        "s2 = pd.Series([1,0,1,0], name = 'x2')\n",
        "s3 = pd.Series([0,1,1,0], name = 'x1 & x2')\n",
        "df = pd.DataFrame([s1,s2,s3]).T\n",
        "df.index = ['.','.','.','.']\n",
        "df"
      ]
    },
    {
      "cell_type": "markdown",
      "metadata": {
        "id": "EUv_3AVWCCSk"
      },
      "source": [
        "\\begin{equation*}\n",
        " \\begin{cases}\n",
        "   w_1 + w_2 + b \\leq 0 \\\\\n",
        "   w_1 + b > 0 \\\\\n",
        "   w_2 + b > 0 \\\\\n",
        "   b \\leq 0\n",
        " \\end{cases}\n",
        "\\end{equation*}\n",
        "\n",
        "Задача построения нейрона нерешаема\n",
        "\n",
        "Нужно использовать 3+ нейронов для решения этой задачи. Сеть нейронов позволяет сделать нелинейную операцию"
      ]
    },
    {
      "cell_type": "markdown",
      "metadata": {
        "id": "lpCqg30nCCSl"
      },
      "source": [
        "## Базовая работа в pytorch"
      ]
    },
    {
      "cell_type": "markdown",
      "metadata": {
        "id": "5AeIy8ehCCSl"
      },
      "source": [
        "Нейронные сети мы будем изучать с помощью библиотеки pytorch"
      ]
    },
    {
      "cell_type": "code",
      "execution_count": null,
      "metadata": {
        "id": "K23iykxeCCSl"
      },
      "outputs": [],
      "source": [
        "import torch"
      ]
    },
    {
      "cell_type": "markdown",
      "metadata": {
        "id": "p2hFaUaLCCSm"
      },
      "source": [
        "Основная структура торча - тензоры, многомерные матрицы"
      ]
    },
    {
      "cell_type": "code",
      "execution_count": null,
      "metadata": {
        "id": "GuzPg1O2CCSm",
        "outputId": "53d2e130-f96d-4f46-c69d-b76b5d3fd6ec"
      },
      "outputs": [
        {
          "data": {
            "text/plain": [
              "tensor([[0., 0., 0., 0.],\n",
              "        [0., 0., 0., 0.],\n",
              "        [0., 0., 0., 0.]])"
            ]
          },
          "execution_count": 20,
          "metadata": {},
          "output_type": "execute_result"
        }
      ],
      "source": [
        "torch.zeros([3,4])"
      ]
    },
    {
      "cell_type": "code",
      "execution_count": null,
      "metadata": {
        "id": "YNBRclvhCCSn",
        "outputId": "7fe96c26-0932-4f2c-8439-21c6294b138e"
      },
      "outputs": [
        {
          "data": {
            "text/plain": [
              "tensor([[[1., 1., 1.],\n",
              "         [1., 1., 1.],\n",
              "         [1., 1., 1.],\n",
              "         [1., 1., 1.]],\n",
              "\n",
              "        [[1., 1., 1.],\n",
              "         [1., 1., 1.],\n",
              "         [1., 1., 1.],\n",
              "         [1., 1., 1.]],\n",
              "\n",
              "        [[1., 1., 1.],\n",
              "         [1., 1., 1.],\n",
              "         [1., 1., 1.],\n",
              "         [1., 1., 1.]]])"
            ]
          },
          "execution_count": 22,
          "metadata": {},
          "output_type": "execute_result"
        }
      ],
      "source": [
        "torch.ones([3,4,3])"
      ]
    },
    {
      "cell_type": "code",
      "execution_count": null,
      "metadata": {
        "id": "Kep2piZkCCSn",
        "outputId": "d188cfd3-8fe6-4272-ef11-27e6d8633e1d"
      },
      "outputs": [
        {
          "data": {
            "text/plain": [
              "tensor([[ 1.,  2.,  3.,  4.],\n",
              "        [ 5.,  6.,  7.,  8.],\n",
              "        [ 9., 10., 11., 12.]])"
            ]
          },
          "execution_count": 23,
          "metadata": {},
          "output_type": "execute_result"
        }
      ],
      "source": [
        "torch.Tensor([[1,2,3,4,],\n",
        "              [5,6,7,8,],\n",
        "              [9,10,11,12]])"
      ]
    },
    {
      "cell_type": "code",
      "execution_count": null,
      "metadata": {
        "id": "7zzYyaUiCCSo"
      },
      "outputs": [],
      "source": [
        "x = torch.Tensor([[1,2,3,4,],\n",
        "              [5,6,7,8,],\n",
        "              [9,10,11,12]])"
      ]
    },
    {
      "cell_type": "code",
      "execution_count": null,
      "metadata": {
        "id": "GLRlhb7ZCCSp",
        "outputId": "9499cfb3-455d-433d-e374-691f3c1c7e92"
      },
      "outputs": [
        {
          "data": {
            "text/plain": [
              "torch.Size([3, 4])"
            ]
          },
          "execution_count": 26,
          "metadata": {},
          "output_type": "execute_result"
        }
      ],
      "source": [
        "x.size() #размерность"
      ]
    },
    {
      "cell_type": "code",
      "execution_count": null,
      "metadata": {
        "id": "K-dKKwC8CCSp",
        "outputId": "f3ce956c-d797-43bb-d632-e24c77c42222"
      },
      "outputs": [
        {
          "data": {
            "text/plain": [
              "torch.Size([3, 4])"
            ]
          },
          "execution_count": 27,
          "metadata": {},
          "output_type": "execute_result"
        }
      ],
      "source": [
        "x.shape"
      ]
    },
    {
      "cell_type": "code",
      "execution_count": null,
      "metadata": {
        "id": "ViwS_TJPCCSp",
        "outputId": "de9d0243-90bd-4a77-c209-5d6e3603c7c1"
      },
      "outputs": [
        {
          "data": {
            "text/plain": [
              "tensor([1., 2., 3., 4.])"
            ]
          },
          "execution_count": 28,
          "metadata": {},
          "output_type": "execute_result"
        }
      ],
      "source": [
        "x[0]"
      ]
    },
    {
      "cell_type": "code",
      "execution_count": null,
      "metadata": {
        "id": "SDSdHpxmCCSq",
        "outputId": "a96b9a14-2912-4212-8155-123a2fab664c"
      },
      "outputs": [
        {
          "data": {
            "text/plain": [
              "tensor([5., 6., 7., 8.])"
            ]
          },
          "execution_count": 29,
          "metadata": {},
          "output_type": "execute_result"
        }
      ],
      "source": [
        "x[1]"
      ]
    },
    {
      "cell_type": "code",
      "execution_count": null,
      "metadata": {
        "id": "yBQ7qKaQCCSr",
        "outputId": "30cbd138-4f8c-44d3-d4ce-23fff247a153"
      },
      "outputs": [
        {
          "data": {
            "text/plain": [
              "tensor(1.)"
            ]
          },
          "execution_count": 30,
          "metadata": {},
          "output_type": "execute_result"
        }
      ],
      "source": [
        "x[0,0]"
      ]
    },
    {
      "cell_type": "code",
      "execution_count": null,
      "metadata": {
        "id": "GRFUjubtCCSs",
        "outputId": "338af196-164c-4bcf-93cf-5ebe0c1073c1"
      },
      "outputs": [
        {
          "data": {
            "text/plain": [
              "tensor([1., 5., 9.])"
            ]
          },
          "execution_count": 31,
          "metadata": {},
          "output_type": "execute_result"
        }
      ],
      "source": [
        "x[:, 0]"
      ]
    },
    {
      "cell_type": "code",
      "execution_count": null,
      "metadata": {
        "id": "-s0-KZY2CCSs",
        "outputId": "d0ad68af-b63a-4516-86c3-dd86903674d8"
      },
      "outputs": [
        {
          "data": {
            "text/plain": [
              "tensor([[11., 12., 13., 14.],\n",
              "        [15., 16., 17., 18.],\n",
              "        [19., 20., 21., 22.]])"
            ]
          },
          "execution_count": 32,
          "metadata": {},
          "output_type": "execute_result"
        }
      ],
      "source": [
        "x + 10"
      ]
    },
    {
      "cell_type": "code",
      "execution_count": null,
      "metadata": {
        "id": "jPtpoPhwCCSs",
        "outputId": "58c72380-3e41-432d-c04b-7df6d2a906bc"
      },
      "outputs": [
        {
          "data": {
            "text/plain": [
              "tensor([[  1.,   4.,   9.,  16.],\n",
              "        [ 25.,  36.,  49.,  64.],\n",
              "        [ 81., 100., 121., 144.]])"
            ]
          },
          "execution_count": 33,
          "metadata": {},
          "output_type": "execute_result"
        }
      ],
      "source": [
        "x ** 2"
      ]
    },
    {
      "cell_type": "code",
      "execution_count": null,
      "metadata": {
        "id": "Li2XX513CCSt",
        "outputId": "1d130976-1489-4de5-e1d8-9aafbf89036f"
      },
      "outputs": [
        {
          "data": {
            "text/plain": [
              "tensor([[13., 13., 13., 13.],\n",
              "        [13., 13., 13., 13.],\n",
              "        [13., 13., 13., 13.]])"
            ]
          },
          "execution_count": 48,
          "metadata": {},
          "output_type": "execute_result"
        }
      ],
      "source": [
        "y = torch.Tensor([[12,11,10,9],\n",
        "                 [8,7,6,5],\n",
        "                 [4,3,2,1]])\n",
        "x + y"
      ]
    },
    {
      "cell_type": "code",
      "execution_count": null,
      "metadata": {
        "id": "DJDN6Z4LCCSt",
        "outputId": "01b6303a-695f-4844-b6f9-0d51dbc88a40"
      },
      "outputs": [
        {
          "data": {
            "text/plain": [
              "tensor([[12., 22., 30., 36.],\n",
              "        [40., 42., 42., 40.],\n",
              "        [36., 30., 22., 12.]])"
            ]
          },
          "execution_count": 38,
          "metadata": {},
          "output_type": "execute_result"
        }
      ],
      "source": [
        "x * y"
      ]
    },
    {
      "cell_type": "code",
      "execution_count": null,
      "metadata": {
        "id": "p_7lLIpDCCSt",
        "outputId": "550b7597-d1fa-497f-cc4a-e40603abd7c0"
      },
      "outputs": [
        {
          "data": {
            "text/plain": [
              "tensor([[ 0.0833,  0.1818,  0.3000,  0.4444],\n",
              "        [ 0.6250,  0.8571,  1.1667,  1.6000],\n",
              "        [ 2.2500,  3.3333,  5.5000, 12.0000]])"
            ]
          },
          "execution_count": 39,
          "metadata": {},
          "output_type": "execute_result"
        }
      ],
      "source": [
        "x / y"
      ]
    },
    {
      "cell_type": "code",
      "execution_count": null,
      "metadata": {
        "id": "WrYwu67wCCSu",
        "outputId": "55dc1c16-b86f-4cd4-9db4-e4ee06ff45e7"
      },
      "outputs": [
        {
          "data": {
            "text/plain": [
              "tensor([[1., 2., 3., 4.],\n",
              "        [5., 6., 1., 3.],\n",
              "        [1., 1., 1., 0.]])"
            ]
          },
          "execution_count": 40,
          "metadata": {},
          "output_type": "execute_result"
        }
      ],
      "source": [
        "x % y"
      ]
    },
    {
      "cell_type": "code",
      "execution_count": null,
      "metadata": {
        "id": "uF_b2hYiCCSu",
        "outputId": "a51844e0-6c08-44ab-b069-5a86e4730f32"
      },
      "outputs": [
        {
          "data": {
            "text/plain": [
              "tensor([[2.7183e+00, 7.3891e+00, 2.0086e+01, 5.4598e+01],\n",
              "        [1.4841e+02, 4.0343e+02, 1.0966e+03, 2.9810e+03],\n",
              "        [8.1031e+03, 2.2026e+04, 5.9874e+04, 1.6275e+05]])"
            ]
          },
          "execution_count": 41,
          "metadata": {},
          "output_type": "execute_result"
        }
      ],
      "source": [
        "torch.exp(x) #е в степени икс"
      ]
    },
    {
      "cell_type": "code",
      "execution_count": null,
      "metadata": {
        "id": "T_IHOHasCCSv",
        "outputId": "98b84f33-eccc-4db1-f63a-cdfb85793d89"
      },
      "outputs": [
        {
          "data": {
            "text/plain": [
              "tensor([[0.0000, 0.6931, 1.0986, 1.3863],\n",
              "        [1.6094, 1.7918, 1.9459, 2.0794],\n",
              "        [2.1972, 2.3026, 2.3979, 2.4849]])"
            ]
          },
          "execution_count": 42,
          "metadata": {},
          "output_type": "execute_result"
        }
      ],
      "source": [
        "torch.log(x) #десятичный логарифм"
      ]
    },
    {
      "cell_type": "code",
      "execution_count": null,
      "metadata": {
        "id": "IZvP_LMeCCSv",
        "outputId": "a2a0fff0-9817-4056-a8a5-190c4ffe90d2"
      },
      "outputs": [
        {
          "data": {
            "text/plain": [
              "tensor([[ 0.8415,  0.9093,  0.1411, -0.7568],\n",
              "        [-0.9589, -0.2794,  0.6570,  0.9894],\n",
              "        [ 0.4121, -0.5440, -1.0000, -0.5366]])"
            ]
          },
          "execution_count": 43,
          "metadata": {},
          "output_type": "execute_result"
        }
      ],
      "source": [
        "torch.sin(x)"
      ]
    },
    {
      "cell_type": "code",
      "execution_count": null,
      "metadata": {
        "id": "RVpSeJ_LCCSw",
        "outputId": "cc3df692-aebe-4284-c6f5-fc863458f2b5"
      },
      "outputs": [
        {
          "data": {
            "text/plain": [
              "tensor([[False, False, False,  True],\n",
              "        [ True,  True,  True,  True],\n",
              "        [ True,  True,  True,  True]])"
            ]
          },
          "execution_count": 44,
          "metadata": {},
          "output_type": "execute_result"
        }
      ],
      "source": [
        "x > 3"
      ]
    },
    {
      "cell_type": "code",
      "execution_count": null,
      "metadata": {
        "id": "HR8U_gcwCCSw",
        "outputId": "907f7e56-096d-416d-a49b-05d8f3b4db3f"
      },
      "outputs": [
        {
          "data": {
            "text/plain": [
              "tensor([ 4.,  5.,  6.,  7.,  8.,  9., 10., 11., 12.])"
            ]
          },
          "execution_count": 45,
          "metadata": {},
          "output_type": "execute_result"
        }
      ],
      "source": [
        "mask = x > 3\n",
        "x[mask].resh"
      ]
    },
    {
      "cell_type": "code",
      "execution_count": null,
      "metadata": {
        "id": "BE65_igaCCSy",
        "outputId": "28a7cd17-455f-4527-86f8-be85a9676576"
      },
      "outputs": [
        {
          "name": "stdout",
          "output_type": "stream",
          "text": [
            "tensor([[999.,   2.,   3.,   4.],\n",
            "        [  5.,   6.,   7.,   8.],\n",
            "        [  9.,  10.,  11.,  12.]])\n",
            "tensor([[999.,   2.,   3.,   4.],\n",
            "        [  5.,   6.,   7.,   8.],\n",
            "        [  9.,  10.,  11.,  12.]])\n"
          ]
        }
      ],
      "source": [
        "y = x\n",
        "y[0, 0] = 999\n",
        "print(x, y, sep='\\n')"
      ]
    },
    {
      "cell_type": "code",
      "execution_count": null,
      "metadata": {
        "id": "D8wpoRjFCCSy",
        "outputId": "5c27a2b3-e6a8-454a-d5f5-895f4b3c2986"
      },
      "outputs": [
        {
          "name": "stdout",
          "output_type": "stream",
          "text": [
            "tensor([[ 1.,  2.,  3.,  4.],\n",
            "        [ 5.,  6.,  7.,  8.],\n",
            "        [ 9., 10., 11., 12.]])\n",
            "tensor([[999.,   2.,   3.,   4.],\n",
            "        [  5.,   6.,   7.,   8.],\n",
            "        [  9.,  10.,  11.,  12.]])\n"
          ]
        }
      ],
      "source": [
        "y = x.clone() #копирование элементов\n",
        "y[0,0] = 999\n",
        "print(x, y, sep='\\n')"
      ]
    },
    {
      "cell_type": "code",
      "execution_count": null,
      "metadata": {
        "id": "exvCzH89CCSy",
        "outputId": "23205258-952c-4871-9944-8368c24be274"
      },
      "outputs": [
        {
          "data": {
            "text/plain": [
              "torch.float32"
            ]
          },
          "execution_count": 53,
          "metadata": {},
          "output_type": "execute_result"
        }
      ],
      "source": [
        "x.dtype #тип элемента"
      ]
    },
    {
      "cell_type": "code",
      "execution_count": null,
      "metadata": {
        "id": "siGe7rpcCCSz",
        "outputId": "794eabb5-c86f-41c4-8e08-46e7284e5351"
      },
      "outputs": [
        {
          "name": "stdout",
          "output_type": "stream",
          "text": [
            "tensor([[ 1.,  2.,  3.,  4.],\n",
            "        [ 5.,  6.,  7.,  8.],\n",
            "        [ 9., 10., 11., 12.]], dtype=torch.float64)\n",
            "tensor([[ 1,  2,  3,  4],\n",
            "        [ 5,  6,  7,  8],\n",
            "        [ 9, 10, 11, 12]], dtype=torch.int32)\n",
            "tensor([[ 1.,  2.,  3.,  4.],\n",
            "        [ 5.,  6.,  7.,  8.],\n",
            "        [ 9., 10., 11., 12.]])\n"
          ]
        }
      ],
      "source": [
        "x = x.double()\n",
        "print(x)\n",
        "x = x.int()\n",
        "print(x)\n",
        "x = x.float()\n",
        "print(x)"
      ]
    },
    {
      "cell_type": "code",
      "execution_count": null,
      "metadata": {
        "id": "0I1ViK4ACCSz",
        "outputId": "5ed3da35-fcbb-4d84-bf4e-5817ce4e3257"
      },
      "outputs": [
        {
          "data": {
            "text/plain": [
              "array([[0, 1, 2, 3],\n",
              "       [4, 5, 6, 7]])"
            ]
          },
          "execution_count": 55,
          "metadata": {},
          "output_type": "execute_result"
        }
      ],
      "source": [
        "import numpy as  np\n",
        "x = np.arange(8).reshape((2,4))\n",
        "x"
      ]
    },
    {
      "cell_type": "code",
      "execution_count": null,
      "metadata": {
        "id": "I6VKWyYMCCSz",
        "outputId": "40a7e716-3fe5-4237-8f6b-630815232448"
      },
      "outputs": [
        {
          "data": {
            "text/plain": [
              "tensor([[0, 1, 2, 3],\n",
              "        [4, 5, 6, 7]], dtype=torch.int32)"
            ]
          },
          "execution_count": 56,
          "metadata": {},
          "output_type": "execute_result"
        }
      ],
      "source": [
        "x = torch.from_numpy(x) #numpy array in tensor\n",
        "x"
      ]
    },
    {
      "cell_type": "code",
      "execution_count": null,
      "metadata": {
        "id": "uNybXl5RCCSz",
        "outputId": "76a8b1ce-b003-4c4e-c375-13c0e6758f2f"
      },
      "outputs": [
        {
          "data": {
            "text/plain": [
              "array([[0, 1, 2, 3],\n",
              "       [4, 5, 6, 7]])"
            ]
          },
          "execution_count": 57,
          "metadata": {},
          "output_type": "execute_result"
        }
      ],
      "source": [
        "x = x.numpy() #tensor in numpy array\n",
        "x"
      ]
    },
    {
      "cell_type": "code",
      "execution_count": null,
      "metadata": {
        "id": "e-YuDiqpCCS0",
        "outputId": "93254ce5-1d71-4c11-c7f0-494561e02efa"
      },
      "outputs": [
        {
          "data": {
            "text/plain": [
              "tensor([[0.4695, 0.0216, 0.0586,  ..., 0.0112, 0.2575, 0.8541],\n",
              "        [0.6629, 0.7970, 0.2924,  ..., 0.6085, 0.9611, 0.6827],\n",
              "        [0.6009, 0.9113, 0.6774,  ..., 0.1354, 0.6601, 0.3475],\n",
              "        ...,\n",
              "        [0.1191, 0.4120, 0.9852,  ..., 0.8935, 0.0335, 0.4435],\n",
              "        [0.1245, 0.2955, 0.3423,  ..., 0.6733, 0.5332, 0.3932],\n",
              "        [0.2697, 0.1318, 0.2657,  ..., 0.9673, 0.7009, 0.6101]])"
            ]
          },
          "execution_count": 65,
          "metadata": {},
          "output_type": "execute_result"
        }
      ],
      "source": [
        "x = torch.rand((2000,3000)) #создание массива со случайными числами\n",
        "x"
      ]
    },
    {
      "cell_type": "code",
      "execution_count": null,
      "metadata": {
        "id": "m29Y1EAnCCS0",
        "outputId": "d3e242dd-b877-4ed7-87c6-4e34f6868c6f"
      },
      "outputs": [
        {
          "data": {
            "text/plain": [
              "False"
            ]
          },
          "execution_count": 59,
          "metadata": {},
          "output_type": "execute_result"
        }
      ],
      "source": [
        "torch.cuda.is_available() #проверка наличия куды на компе"
      ]
    },
    {
      "cell_type": "code",
      "execution_count": null,
      "metadata": {
        "id": "0E4A9HvYCCS0",
        "outputId": "5c722629-5029-48c0-f9d2-9f09c29568b7"
      },
      "outputs": [
        {
          "data": {
            "text/plain": [
              "device(type='cuda', index=0)"
            ]
          },
          "execution_count": 60,
          "metadata": {},
          "output_type": "execute_result"
        }
      ],
      "source": [
        "torch.device('cuda:0') #девайс, соответствующий видеокарте. Счёт видюх с нуля"
      ]
    },
    {
      "cell_type": "code",
      "execution_count": null,
      "metadata": {
        "id": "aOY5RV6hCCS2",
        "outputId": "2b1880a1-66d2-4672-ce77-4e5d3d20bd71"
      },
      "outputs": [
        {
          "data": {
            "text/plain": [
              "device(type='cpu')"
            ]
          },
          "execution_count": 61,
          "metadata": {},
          "output_type": "execute_result"
        }
      ],
      "source": [
        "torch.device('cpu') #девайс, соответствующий процессору"
      ]
    },
    {
      "cell_type": "code",
      "execution_count": null,
      "metadata": {
        "id": "lZkmlGTYCCS2"
      },
      "outputs": [],
      "source": [
        "device = torch.device('cuda:0' if torch.cuda.is_available() else 'cpu')\n",
        "#автоматический выбор девайса"
      ]
    },
    {
      "cell_type": "code",
      "execution_count": null,
      "metadata": {
        "id": "lu7TmsAtCCS2"
      },
      "outputs": [],
      "source": [
        "x_cuda = x.to(device) #тензор теперь на куде"
      ]
    },
    {
      "cell_type": "code",
      "execution_count": null,
      "metadata": {
        "id": "V6FKG-qoCCS2",
        "outputId": "3cada048-007f-4781-d826-71cea9840948"
      },
      "outputs": [
        {
          "name": "stdout",
          "output_type": "stream",
          "text": [
            "CPU times: total: 109 ms\n",
            "Wall time: 80 ms\n"
          ]
        },
        {
          "data": {
            "text/plain": [
              "tensor([[0.4064, 0.0104, 0.0341,  ..., 0.0047, 0.1988, 0.8288],\n",
              "        [0.6128, 0.7632, 0.2313,  ..., 0.5534, 0.9538, 0.6347],\n",
              "        [0.5453, 0.8953, 0.6289,  ..., 0.0925, 0.6098, 0.2840],\n",
              "        ...,\n",
              "        [0.0793, 0.3478, 0.9824,  ..., 0.8745, 0.0175, 0.3798],\n",
              "        [0.0837, 0.2342, 0.2789,  ..., 0.6244, 0.4728, 0.3290],\n",
              "        [0.2101, 0.0896, 0.2063,  ..., 0.9612, 0.6550, 0.5552]])"
            ]
          },
          "execution_count": 68,
          "metadata": {},
          "output_type": "execute_result"
        }
      ],
      "source": [
        "%time x_cuda ** 5 ** 0.2 ** 5 ** 0.2"
      ]
    },
    {
      "cell_type": "markdown",
      "metadata": {
        "id": "VTgDWqsrCCS3"
      },
      "source": [
        "# Строим первую нейронную сеть"
      ]
    },
    {
      "cell_type": "markdown",
      "metadata": {
        "id": "MKOIFNGZCCS3"
      },
      "source": [
        "## Восстановление зависимости нейронной сетью"
      ]
    },
    {
      "cell_type": "markdown",
      "metadata": {
        "id": "EDx_V0yLCCS3"
      },
      "source": [
        "Размеченная обучающая выборка состоит из некоторого количество объектов и для этих объектов мы знаем:\n",
        "признаки $$ x_1, x_2, ... , x_n $$\n",
        "и метку объекта\n",
        "$$ y_1, y_2, ... , y_n $$\n",
        "Например, зависимость ветра от дня. Иксы: порядковый номер дня, какая облачность, какая была температура, какое давление. Игреки: скорость ветра\n",
        "Перед обучение выборку надо разделить на три датасета: тренировочный, валидационный, тестовый.\n",
        "Тренировочный - то, что используется для обучения нейронной сети\n",
        "Валидационный необходим для настройки параметров модели\n",
        "Тестовый - тот, на котором проверяем окончательный результат"
      ]
    },
    {
      "cell_type": "markdown",
      "metadata": {
        "id": "c9nWBE6_CCS4"
      },
      "source": [
        "Допустим есть скрытая зависимость $$ y_i = f(x_i)$$\n",
        "x - давление, y - скорость ветра, f() - некоторая функция. Правильнее писать формулу следующим образом:\n",
        "$$ y_i = f(x_i) + \\epsilon_i $$\n",
        "где $\\epsilon_i$ - погрешность, систематическая или случайная. В терминах: f() - скрытая зависимость, $x_i$ - координата замера, $y_i$ - замеренное значение, $\\epsilon_i$ - шум"
      ]
    },
    {
      "cell_type": "markdown",
      "metadata": {
        "id": "gm5Tv7l8CCS4"
      },
      "source": [
        "## Компоненты нейронной сети"
      ]
    },
    {
      "cell_type": "markdown",
      "metadata": {
        "id": "PFkOGfnqCCS4"
      },
      "source": [
        "Мы хотим восстановить зависимость при помощи нейронной сети. Как построить нейронную сеть?\n",
        "\n",
        "Во-первых, необходимо определиться с архитектурой нейронной сети.\n",
        "\n",
        "Во-вторых, необходимо определиться с функцией потерь.\n",
        "\n",
        "В-третьих, необходимо определиться с методом оптимизации.\n",
        "\n",
        "В-четвёртых, важно ввести метрики. (насколько хорошо решается задача)"
      ]
    },
    {
      "cell_type": "markdown",
      "metadata": {
        "id": "Pt44pPAsCCS4"
      },
      "source": [
        "Пример построения нейронной сети.\n",
        "\n",
        "Пусть всего один аргумент $x_i$ и всего один результат $y_i$. Тогда нейронная сеть должна иметь один вход и один выход.\n",
        "\n",
        "Придумать архитектуру - значит придумать, как между аргументом и результатом буду происходить вычисления.\n",
        "\n",
        "Последний нейрон - просто линейный. Между этим нейроном и аргумент поставить много сигмоидных нейронов.\n",
        "\n",
        "Для того, чтобы обучить, необходимо подобрать параметры у выходного нейрона и у нейронов скрытого слоя таким образом, чтобы\n",
        "то, что выдаётся нейронной сетью, наилучшим образом подходило к тому, что мы наблюдали"
      ]
    },
    {
      "cell_type": "markdown",
      "metadata": {
        "id": "3Ejml8XaCCS4"
      },
      "source": [
        "В такой нейронной сети мы сможем настраивать параметры:\n",
        "\n",
        "веса $w_1^1, w_2^1, ... , w_n^1$ , которые \"взвешивают\" входных значения в первый и единственный в этой нейронной сети скрытый слой. Эти веса\n",
        "отвечают за то, насколько круто будет растить соответствующая сигмоида.\n",
        "\n",
        "Кроме весов скрытого слоя, мы можем настраивать смещеня скрытого слоя $b_1^1, b_2^1, ... , b_n^1$.\n",
        "\n",
        "Также мы можем настраивать веса второго слоя $w_1^2, w_2^2, ... , w_n^2$\n",
        "Веса второго слоя будут означать амплитуду соответствующей сигмоиды.\n",
        "Помимо весов второго слоя мы можем настраивать смещеня второго слоя $b_1^2$"
      ]
    },
    {
      "cell_type": "markdown",
      "metadata": {
        "id": "Yasu8IA9CCS5"
      },
      "source": [
        "При помощи линейных комбинаций сигмоид можно с любой точностью приблизить любую ограниченную функцию с не более, чем счётным числом\n",
        "разрывов."
      ]
    },
    {
      "cell_type": "markdown",
      "metadata": {
        "id": "5-ezjdN3CCS5"
      },
      "source": [
        "Для восстановления зависимости в качестве функции потерь можно использоваться среднеквадратичную ошибку\n",
        "$$\n",
        "MSE=\\frac{1}{N} \\sum_{i=1}^N (y_i - \\overline{y_i})^2\n",
        "$$\n",
        "\n",
        "$y_i$ - целевое значение\n",
        "\n",
        "$\\overline{y_i}$ - результат работы нейронной сети, предсказания нашей модели"
      ]
    },
    {
      "cell_type": "markdown",
      "metadata": {
        "id": "HLlAxfCYCCS5"
      },
      "source": [
        "## Алгоритм настройки нейронной сети"
      ]
    },
    {
      "cell_type": "markdown",
      "metadata": {
        "id": "OvOzTUtDCCS5"
      },
      "source": [
        "Для настройки параметров нейронной сети будем использовать градиентный спуск. Веса будем описывать вектором\n",
        "$$\n",
        "\\begin{equation*}\n",
        "w_0 = \\left(\n",
        "    \\begin{array}{c}\n",
        "    w_0\\\\\n",
        "    w_1\\\\\n",
        "    \\vdots\\\\\n",
        "    w_n\\\\\n",
        "    \\vdots\\\\\n",
        "    b_0\\\\\n",
        "    b_1\\\\\n",
        "    \\vdots\\\\\n",
        "    b_n\n",
        "    \\end{array}\n",
        "\\right)\n",
        "\\end{equation*}\n",
        "$$.\n",
        "Далее берём функцию потерь и считаем её производную, а точнее градиент.\n",
        "\n",
        "Градиент - вектор, состоящий из производных по каждой из координат функции\n",
        "$$\n",
        "\\begin{equation*}\n",
        "    \\nabla f = \\left(\n",
        "        \\begin{array}{c}\n",
        "        \\frac{\\partial f}{\\partial w_0} \\\\\n",
        "        \\frac{\\partial f}{\\partial w_1} \\\\\n",
        "        \\vdots\\\\\n",
        "        \\frac{\\partial f}{\\partial w_n}\n",
        "        \\end{array}\n",
        "    \\right)\n",
        "\\end{equation*}\n",
        "$$\n",
        "\n",
        "Градиент функции потерь показывает в сторону наибольшего роста функции потерь.\n",
        "Поскольку нам надо уменьше потери, поэтому мы будем двигаться в сторону, обратную градиенту.\n",
        "Мы получаем новый вектор весов:\n",
        "$$\n",
        "w_1 = w_0 - \\alpha \\nabla f{w_0}\n",
        "$$\n",
        "Если мы хотем ещё сильнее минимизировать функцию потерь, мы можем взять градиент от $w_1$\n",
        "Таким образом мы получим точку\n",
        "$$\n",
        "w_2 = w_1 - \\alpha \\nabla f{w_1}\n",
        "$$\n",
        "\n",
        "$\\alpha$ - скорость обучения сети, в нашем случае фиксированный коэффициент\n",
        "\n",
        "При помощи градиентного спуска мы можем делать достаточно большое количество шагов.\n",
        "Градиентный спуск может найти минимум функции, но не оптимальный!!!!"
      ]
    },
    {
      "cell_type": "markdown",
      "metadata": {
        "id": "_SLm9tsSCCS7"
      },
      "source": [
        "Ограничения функции потерь:\n",
        "- функция потерь должна быть дифференцируема\n",
        "- производная не должна равняться нулю\n",
        "$$\n",
        " \\frac{\\partial}{\\partial \\overline{y_i}} MSE = -\\frac{2}{N} (y_i - \\overline{y_i})\n",
        "$$\n",
        "$\\overline{y_i}$ - то, что функция должна была выдать\n",
        "\n",
        "$y_i$ то, что функция выдала"
      ]
    },
    {
      "cell_type": "markdown",
      "metadata": {
        "id": "RGWmmaPmCCS7"
      },
      "source": [
        "Мы знаем производную функции потерь. По этой производной нам необходимо вычислить производные всех параметров сети.\n",
        "$$\n",
        "L = \\bigg(f_4 \\Big(f_2 \\big(f_1(x)\\big)\\Big), f_3 \\big(f_1(x)\\big)\\bigg)\n",
        "$$\n",
        "$$\n",
        "\\frac{\\partial f(g(x))}{\\partial x} = \\frac{\\partial f}{\\partial g} \\frac{\\partial g}{\\partial x}\n",
        "$$"
      ]
    },
    {
      "cell_type": "markdown",
      "metadata": {
        "id": "oOtTtg7mCCS7"
      },
      "source": [
        "![graph](https://sun9-37.userapi.com/impg/YC9jGBMhDYUvhFvS9ObSRT9fnTz-1Gtjh7fzag/2nJ7A2mkwiU.jpg?size=435x213&quality=96&sign=6b4c9fca6ffb8d4cb3b79883b4613d75&type=album)"
      ]
    },
    {
      "cell_type": "markdown",
      "metadata": {
        "id": "o1EcFB1aCCS7"
      },
      "source": [
        "$$\n",
        "    \\frac{\\partial L}{\\partial w_1} =\n",
        "    \\frac{\\partial L}{\\partial y_4}[\n",
        "        \\frac{\\partial f_4}{\\partial y_2}\n",
        "        \\frac{\\partial f_2}{\\partial y_1}+\n",
        "        \\frac{\\partial f_4}{\\partial y_3}\n",
        "        \\frac{\\partial f_3}{\\partial y_1}\n",
        "    ]\n",
        "    \\frac{\\partial f_1}{\\partial w_1}\n",
        "$$\n",
        "\n",
        "Это алгоритм обратного распрастранения ошибки"
      ]
    },
    {
      "cell_type": "markdown",
      "metadata": {
        "id": "0LnoNboyCCS7"
      },
      "source": [
        "Starter kit\n",
        "- архитектура нейронной сети(в каком порядке и как определены нейроны)\n",
        "- определиться с функцией потерь(дифференцируемая функция, показывающая насколько хорошо решается поставленная задача)\n",
        "- определиться с методом оптимизации(как настраивать параметры сети, зная производную функции потерь)\n",
        "- подбор метрик(насколько хорошо обучается нейронная сеть)"
      ]
    },
    {
      "cell_type": "markdown",
      "metadata": {
        "id": "pMJvqKCZCCS7"
      },
      "source": [
        "## Реализация градиентного спуска в pytorch"
      ]
    },
    {
      "cell_type": "markdown",
      "metadata": {
        "id": "X6WJw9cFCCS8"
      },
      "source": [
        "$$\n",
        "x^{t+1} = x^t - \\alpha \\nabla f(x^t)\n",
        "$$\n",
        "$$\n",
        "    f(x^{t+1}) = f(x^t - \\alpha \\nabla f(x^t))\n",
        "$$"
      ]
    },
    {
      "cell_type": "markdown",
      "metadata": {
        "id": "di89N_d6CCS8"
      },
      "source": [
        "пример\n",
        "$$\n",
        "f(x) = 10 * \\sum_{ij} x_{ij}^2 \\\\\n",
        "f'(X)_X = ? \\\\\n",
        "$$\n",
        "Производная от тензора - градиент\n",
        "$$\n",
        "f'(X)_{x_{kl}} = (10*\\sum_{ij} x^2_{ij})'_{x_{kl}} = 10 * (\\sum_{ij} x^2_{ij})'_{x_{kl}} = 10 * \\sum_{ij} 2*x_{ij}(x_{ij})'_{x_{kl}}\\\\\n",
        "f'(X)_{x_{kl}} = 10 * 2x_{kl}*1 = 20x_{kl}\\\\\n",
        "f'(X)_X = 20X\n",
        "$$"
      ]
    },
    {
      "cell_type": "code",
      "execution_count": null,
      "metadata": {
        "id": "aHXSXKjZCCS8"
      },
      "outputs": [],
      "source": [
        "import torch\n",
        "\n",
        "x = torch.tensor([[1,2,3,4],\n",
        "              [5,6,7,8],\n",
        "              [9,10,11,12]], dtype=float, requires_grad=True)\n",
        "#Аргумент \"requires_grad=True\" отвечает за способность в дальнейшем считать градиент по этому тензору значений\n",
        "#мы устанавливаем, что в этом тензере не константы, а переменные"
      ]
    },
    {
      "cell_type": "code",
      "execution_count": null,
      "metadata": {
        "id": "qo1Tiy3cCCS9",
        "outputId": "2c825eb8-d09b-46f5-d9c2-fc08df0bed07"
      },
      "outputs": [
        {
          "data": {
            "text/plain": [
              "tensor([[ 1.,  2.,  3.,  4.],\n",
              "        [ 5.,  6.,  7.,  8.],\n",
              "        [ 9., 10., 11., 12.]], dtype=torch.float64, requires_grad=True)"
            ]
          },
          "execution_count": 34,
          "metadata": {},
          "output_type": "execute_result"
        }
      ],
      "source": [
        "device = torch.device('cuda:0' if torch.cuda.is_available() else 'cpu')\n",
        "x = x.to(device) #подключение тензора к вычислительной мощности\n",
        "x"
      ]
    },
    {
      "cell_type": "code",
      "execution_count": null,
      "metadata": {
        "id": "jxoWfTldCCS9",
        "outputId": "432f318f-8a07-43cd-f93b-b604289ad846"
      },
      "outputs": [
        {
          "data": {
            "text/plain": [
              "tensor(6242.6000, dtype=torch.float64, grad_fn=<MulBackward0>)"
            ]
          },
          "execution_count": 40,
          "metadata": {},
          "output_type": "execute_result"
        }
      ],
      "source": [
        "function =  10 * (x ** 2).sum()\n",
        "#составление функции зависящую от тензора X, который является переменной\n",
        "function\n",
        "function.backward() #вычисление производной функции, метод применяется к функции, ничего не возвращает"
      ]
    },
    {
      "cell_type": "code",
      "execution_count": null,
      "metadata": {
        "id": "JeB0HnT-CCS-",
        "outputId": "1c745949-8ec4-4acd-a0f6-0d165975f960"
      },
      "outputs": [
        {
          "data": {
            "text/plain": [
              "tensor([[ 20.,  40.,  60.,  80.],\n",
              "        [100., 120., 140., 160.],\n",
              "        [180., 200., 220., 240.]], dtype=torch.float64)"
            ]
          },
          "execution_count": 36,
          "metadata": {},
          "output_type": "execute_result"
        }
      ],
      "source": [
        "x.grad #метод, который возвращает результат нахождения градиента функции"
      ]
    },
    {
      "cell_type": "code",
      "execution_count": null,
      "metadata": {
        "id": "4DY_fMDwCCS-",
        "outputId": "3dd511ae-38cc-4aed-bf14-f4dc7bceebae"
      },
      "outputs": [
        {
          "name": "stdout",
          "output_type": "stream",
          "text": [
            "<MulBackward0 object at 0x000002407995F580>\n",
            "<SumBackward0 object at 0x000002407995F5B0>\n",
            "<PowBackward0 object at 0x000002407995F580>\n",
            "<AccumulateGrad object at 0x000002407995F0D0>\n"
          ]
        }
      ],
      "source": [
        "print(function.grad_fn) #последняя операция дифференцирования\n",
        "print(function.grad_fn.next_functions[0][0]) #предпоследняя операция дифференцирования\n",
        "print(function.grad_fn.next_functions[0][0].next_functions[0][0]) #предпредпоследняя операция дифференцирования\n",
        "print(function.grad_fn.next_functions[0][0].next_functions[0][0].next_functions[0][0]) #первая операция дифференцирования"
      ]
    },
    {
      "cell_type": "code",
      "execution_count": null,
      "metadata": {
        "id": "1-2SaDuACCS_"
      },
      "outputs": [],
      "source": [
        "#реализация градиентного спуска по формуле\n",
        "x.data -= 0.001 * x.grad\n",
        "#атрибут .data позволяет обновить не сам тензор, а только данные в нём!\n"
      ]
    },
    {
      "cell_type": "markdown",
      "metadata": {
        "id": "0JrX60Q-CCS_"
      },
      "source": [
        "Если мы будем производить операции градиента многократно:\n",
        "в pytorch для удобства градиенты не обновляются после выполнения градиентных шагов.\n",
        "Они всё время накапливаются то есть суммируются. Результат - сумма прошлого градиента и текущего.\n",
        "Для того, чтобы такое не происходило необходимо обнулять градиент"
      ]
    },
    {
      "cell_type": "code",
      "execution_count": null,
      "metadata": {
        "id": "vnqMI5m2CCS_",
        "outputId": "50283b99-b18a-4447-9dc7-ac55543ce05f"
      },
      "outputs": [
        {
          "data": {
            "text/plain": [
              "tensor([[0., 0., 0., 0.],\n",
              "        [0., 0., 0., 0.],\n",
              "        [0., 0., 0., 0.]], dtype=torch.float64)"
            ]
          },
          "execution_count": 32,
          "metadata": {},
          "output_type": "execute_result"
        }
      ],
      "source": [
        "x.grad.zero_() #метод обнулит весь градиент"
      ]
    },
    {
      "cell_type": "code",
      "execution_count": null,
      "metadata": {
        "id": "ZtNYsvO7CCTA",
        "outputId": "209db1b6-2d33-48ba-b915-dd546dcbd450"
      },
      "outputs": [
        {
          "data": {
            "text/plain": [
              "tensor([0.0003, 0.0003], requires_grad=True)"
            ]
          },
          "execution_count": 43,
          "metadata": {},
          "output_type": "execute_result"
        }
      ],
      "source": [
        "x = torch.tensor([8., 8.], requires_grad = True)\n",
        "\n",
        "def parabola(variable):\n",
        "    return 10 * (variable ** 2).sum()\n",
        "\n",
        "def make_gradient_step(function, variable):\n",
        "    function_result = function(variable) #вычисление значения по функции\n",
        "    function_result.backward() #нахождение производной\n",
        "    variable.data -= 0.001 * variable.grad #градиентный спуск\n",
        "    variable.grad.zero_() #обнуление градиента\n",
        "\n",
        "for i in range(500):\n",
        "    make_gradient_step(parabola, x)"
      ]
    },
    {
      "cell_type": "code",
      "execution_count": null,
      "metadata": {
        "id": "_ud36oYUCCTB"
      },
      "outputs": [],
      "source": [
        "x = torch.tensor([8., 8.], requires_grad = True)\n",
        "\n",
        "optimizer = torch.optim.SGD([x], lr=0.001)\n",
        "#оптимайзер - объект, которые знает, как делать градиентные шаги\n",
        "#SGD - стохастический градиентый спуск из пакета optim\n",
        "#мы передаём переменную, с которой будем осуществлять градиентный спуск и learning rate\n",
        "\n",
        "def parabola(variable):\n",
        "    return 10 * (variable ** 2).sum()\n",
        "\n",
        "def make_gradient_step(function, variable):\n",
        "    function_result = function(variable) #вычисление значения по функции\n",
        "    function_result.backward() #нахождение производной\n",
        "    optimizer.step() #градиентный спуск\n",
        "    optimizer.zero_grad() #обнуление градиента\n",
        "\n",
        "for i in range(500):\n",
        "    make_gradient_step(parabola, x)"
      ]
    },
    {
      "cell_type": "markdown",
      "metadata": {
        "id": "de84YjRyCCTB"
      },
      "source": [
        "Если мы хотим визуализировать то, что у нас получается вследствие градиентного спуска, мы можем\n",
        "попробовать нарисовать график линий функции, которую мы оптимизируем. В нашем случае, это круги(линии, на которых\n",
        "функция имеет одно и то же значение) и красными точками отмечена некоторая траектория движения икса,\n",
        "то есть траектория переменной икс, которую она проходит в процессе градиентного спуска. Мы начинали с начального приближения\n",
        "с точки (8,8). Мы видим, что наш градиентный спуск действительно спускается в минимум функции, в точку (0.0)"
      ]
    },
    {
      "cell_type": "code",
      "execution_count": null,
      "metadata": {
        "id": "jBxJLZpuCCTC"
      },
      "outputs": [],
      "source": [
        "import torch\n",
        "import numpy as np\n",
        "import matplotlib.pyplot as plt\n",
        "\n",
        "def show_contours(objective, #функция, которая будет вычислять значение переменной в каждой точке\n",
        "                  x_lims=[-10.0, 10.0], #границы по ОХ\n",
        "                  y_lims=[-10.0, 10.0], #границы по ОУ\n",
        "                  x_ticks=100, #количество точек по ОХ для вычисления значений функции\n",
        "                  y_ticks=100): #количество точек по ОУ для вычисления значений функции\n",
        "    x_step = (x_lims[1] - x_lims[0]) / x_ticks #вычисление шагов на основе границ и количества точек\n",
        "    y_step = (y_lims[1] - y_lims[0]) / y_ticks\n",
        "    X, Y = np.mgrid[x_lims[0]:x_lims[1]:x_step, y_lims[0]:y_lims[1]:y_step] #np.mgrid создание сетки значений Х и У, содержащие координаты каждой точки\n",
        "    res = [] #список, в котором будут содержаться значения каждой функции на сетке\n",
        "    for x_index in range(X.shape[0]): #проход через каждую точку на сетке\n",
        "        res.append([])\n",
        "        for y_index in range(X.shape[1]):\n",
        "            x_val = X[x_index, y_index]\n",
        "            y_val = Y[x_index, y_index]\n",
        "            res[-1].append(objective(np.array([[x_val, y_val]]).T)) #получение значение функции для текущей точки и добавление на соответствующую позицию\n",
        "    res = np.array(res)\n",
        "    plt.figure(figsize=(7,7)) #создание новой фигуры для установки размеров графика\n",
        "    plt.contour(X, Y, res, 100) #создание контуров на основе X,Y, res. 100 - количество контуров\n",
        "    plt.xlabel('$x_1$')\n",
        "    plt.ylabel('$x_2$')"
      ]
    },
    {
      "cell_type": "code",
      "execution_count": null,
      "metadata": {
        "colab": {
          "base_uri": "https://localhost:8080/",
          "height": 634
        },
        "id": "CG6fhmhgCCTC",
        "outputId": "43a1a994-526d-46ac-f5dd-ea7028449d56"
      },
      "outputs": [
        {
          "output_type": "display_data",
          "data": {
            "text/plain": [
              "<Figure size 700x700 with 1 Axes>"
            ],
            "image/png": "[encoded data removed]"
          },
          "metadata": {}
        }
      ],
      "source": [
        "import torch\n",
        "\n",
        "x = torch.tensor(\n",
        "    [8., 8.], requires_grad=True)\n",
        "var_history = []\n",
        "fn_history = []\n",
        "\n",
        "optimizer = torch.optim.SGD([x], lr=0.25)\n",
        "\n",
        "def function_parabola(variable):\n",
        "    return 10 * (variable ** 2).sum()\n",
        "\n",
        "def make_gradient_step(function, variable):\n",
        "    function_result = function(variable)\n",
        "    function_result.backward()\n",
        "    optimizer.step()\n",
        "    optimizer.zero_grad()\n",
        "\n",
        "for i in range(500):\n",
        "    var_history.append(x.data.numpy().copy())\n",
        "    fn_history.append(function_parabola(x).data.cpu().numpy().copy())\n",
        "    make_gradient_step(function_parabola, x)\n",
        "\n",
        "show_contours(function_parabola)\n",
        "plt.scatter(np.array(var_history)[:,0], np.array(var_history)[:,1], s=3, c='r');\n",
        "#plt.scatter - добавление точек на график\n",
        "#первые два массива задают координаты точек Х и У, s - размер, с - цвет"
      ]
    },
    {
      "cell_type": "code",
      "source": [
        "plt.figure(figsize=(7,7))\n",
        "plt.plot(fn_history);\n",
        "plt.xlabel('step')\n",
        "plt.ylabel('function value');"
      ],
      "metadata": {
        "colab": {
          "base_uri": "https://localhost:8080/",
          "height": 619
        },
        "id": "T5O5NEegE5CH",
        "outputId": "82c8d6ef-02f7-4c55-e715-550ce961358a"
      },
      "execution_count": null,
      "outputs": [
        {
          "output_type": "display_data",
          "data": {
            "text/plain": [
              "<Figure size 700x700 with 1 Axes>"
            ],
            "image/png": "[encoded data removed]"
          },
          "metadata": {}
        }
      ]
    },
    {
      "cell_type": "markdown",
      "source": [
        "Уменьшение происходит экспоненциально"
      ],
      "metadata": {
        "id": "fymnZhx1E_ZY"
      }
    },
    {
      "cell_type": "markdown",
      "source": [
        "# Задачи решаемы при помощи нейронных сетей"
      ],
      "metadata": {
        "id": "fe-CpeESH2_h"
      }
    },
    {
      "cell_type": "markdown",
      "source": [
        "## Бинарная классификация, бинарная кросс-энтропия"
      ],
      "metadata": {
        "id": "i__a37fWIUvN"
      }
    },
    {
      "cell_type": "markdown",
      "source": [
        "Выбор функции потерь не зависит от характеристики модели"
      ],
      "metadata": {
        "id": "BSmMPPbxUfRo"
      }
    },
    {
      "cell_type": "markdown",
      "source": [
        "$$ \\sigma'(y) = \\sigma(y)(1 - \\sigma(y))$$"
      ],
      "metadata": {
        "id": "0E0SKG-wVtGA"
      }
    },
    {
      "cell_type": "markdown",
      "source": [
        "$$MSE = (\\sigma(y) - t)^2$$\n",
        "\n",
        "$$MSE' = 2*(\\sigma(y)-t)*\\sigma(y)*(1-\\sigma(y))$$\n",
        "\n",
        "Здесь есть проблема, которая называется \"паралич сигмоидной нейронной сети\"\n",
        "\n",
        "Суть: даже если у нас большое количество ошибки, всё равно возможна ситуация, когда производная будет равняться нулю, соответственно, если мы будем учить такую нейронную сеть при попомощи градиентного спуска, то у нас ничего не получится.\n",
        "\n",
        "Вывод: плохая идея использовать функцию среднеквадратической ошибки в качестве функции потерь вместе с сигмоидной функцией активации на последнем слое"
      ],
      "metadata": {
        "id": "7OT7s3u0WG5I"
      }
    },
    {
      "cell_type": "markdown",
      "source": [
        "Что можно использовать в качестве функции потерь с сигмоидной функцией активации?\n",
        "\n",
        "В качестве потерь с сигмоидной функцией активации можно использовать функцию \"Бинарная кросс-энтропия\"\n",
        "$$\n",
        " BCE(p, t) = -t \\log(p) - (1-t)\\log(1-p)\n",
        "$$\n",
        "\n",
        "$$\n",
        "p = \\sigma(y)\n",
        "$$\n",
        "\n",
        "$$\n",
        "\\frac{\\partial BCE}{\\partial y} = \\frac{\\partial BCE}{\\partial p} \\frac{\\partial p}{\\partial y} = -\\frac{t}{\\sigma} \\sigma' + \\frac{1-t}{1-\\sigma}\\sigma'= -t(1-\\sigma) + (1-t)\\sigma = \\sigma - t\n",
        "$$\n",
        "\n",
        "Бинарная кросс-энтропия - функция потерь, которая хорошо оценивает вероятности и любые значения, которые находятся в интервале от $[0,1]$"
      ],
      "metadata": {
        "id": "lo22HU9mXW64"
      }
    },
    {
      "cell_type": "markdown",
      "source": [
        "## Многоклассофая классификация. Софтмакс"
      ],
      "metadata": {
        "id": "pGgxcHMmxgmd"
      }
    },
    {
      "cell_type": "markdown",
      "source": [
        "Для решения многоклассовой классификации предлагается сделать по одному выходу на каждый класс. Для получения вероятности для каждого класса будем использовать другой подход\n",
        "\n",
        "Сумма всех вероятностей(выходов) должна равняться единице.\n",
        "\n",
        "В таком примере в качестве функции активации мы будем применять функцию \"СофтМакс\"\n",
        "\n",
        "$$\n",
        "SM_i(\\vec{y})=\\frac{e^{y_i}}{\\sum^N_{j=1} e^{y_j}}\n",
        "$$\n",
        "\n",
        "Мы берём все выходы из сети и в эту степень возводим экспоненту. После этого для того, чтобы получить вероятность какого-то класса, мы берём экспоненту, которая соответствует этому классу, и делим на сумму всех экспонент"
      ],
      "metadata": {
        "id": "QcHr7o2uxnxG"
      }
    },
    {
      "cell_type": "markdown",
      "source": [
        "Свойства софт макс функции:\n",
        "- $0<SM<1$\n",
        "- $\\sum_{i=1}^N SM_i = 1$\n",
        "\n",
        "Продифференцируем софтмакс функцию:\n",
        "$$\n",
        "\\frac{\\partial SM_i}{\\partial y_c} = \\frac{-e^{y_i}e^{y_c}}{(\\sum^N_{j=1}e^{y_j})^2}; y_c \\neq y_i\n",
        "$$\n",
        "$y_c$ - некоторый выход из нейронной сети"
      ],
      "metadata": {
        "id": "n85iQaguzBVQ"
      }
    },
    {
      "cell_type": "markdown",
      "source": [
        "Производная софтмакса по выходу:\n",
        "$$\n",
        "\\frac{\\partial SM_i}{\\partial y_i}=\\frac{e^{y_i}*\\sum^n_{j=1}e^{y_j} - e^{y_i}*e^{y_i}}{(\\sum_{j=1}^N e^{y_j})^2} = SM_i(1-SM_i)\n",
        "$$\n",
        "\n",
        "$$\n",
        "\\frac{\\partial}{\\partial y_i} \\sum^n_{j=1} e^{y_j} = \\frac{\\partial}{\\partial y_i} e^{y_i} = e^{y_i}\n",
        "$$\n",
        "\n",
        "Функция активации - софтмакс\n",
        "Функция потерь - кросс энтропия\n",
        "$$\n",
        "CE(p,t) = - \\sum^N_{c=1}t_c \\log p_c\n",
        "$$"
      ],
      "metadata": {
        "id": "suf7giRT1eYc"
      }
    },
    {
      "cell_type": "markdown",
      "source": [
        "Кросс энтропия - минус сумма всех классов от 1 до N.\n",
        "\n",
        "$t_c$ - таргетное значение для класса\n",
        "\n",
        "$p_c$ - вероятность этого класса\n",
        "\n",
        "Верояность класса - софтмакс от выходов из нейронной сети.\n",
        "\n",
        "Таргетное значение для класса - ноль почти для всех классов кроме одного, который присутствует на этой картинке\n",
        "\n",
        "Когда у нас будет два класса, софтмакс будет выглядеть как сигмоида. Кросс энтропия на два класса выглядит как бинарная кросс энтропия"
      ],
      "metadata": {
        "id": "oV-_JmSo7aIF"
      }
    },
    {
      "cell_type": "markdown",
      "source": [
        "Убедимся, что кросс энтропия - хорошая функция потерь для функции активации софтмакс\n",
        "\n",
        "$$\n",
        "\\frac{\\partial CE}{\\partial y_i} = -\\frac{t_i}{p_i} \\frac{\\partial SM_i}{\\partial y_i} - \\sum_{c \\neq i} \\frac{t_c}{p_c} \\frac{\\partial SM_c}{\\partial y_i} = - \\frac{t_i}{p_i} p_i(1-p_i)+ \\sum_{c \\neq i} t_c \\frac{1}{p_c} p_i p_c = -t_i(1-p_i) + \\sum_{c \\neq i} t_c p_i = -t_i + p_i\n",
        "$$\n",
        "\n",
        "Производная кросс энтропии по выходу из нейронной сети линейна"
      ],
      "metadata": {
        "id": "ChYKCsdp8zsS"
      }
    },
    {
      "cell_type": "markdown",
      "source": [
        "Софт макс не совсем функция активации\n"
      ],
      "metadata": {
        "id": "8aS3fFal90jC"
      }
    },
    {
      "cell_type": "markdown",
      "source": [
        "## Локализация, детекция, сегментация и super-resolution"
      ],
      "metadata": {
        "id": "NvgOkSkzAhxQ"
      }
    },
    {
      "cell_type": "markdown",
      "source": [
        "### Задача локализации и детекции"
      ],
      "metadata": {
        "id": "JC3k-HT1Ai4R"
      }
    },
    {
      "cell_type": "markdown",
      "source": [
        "У нас есть картинка. На этой картинке где-то есть объект. Что нужно сделать для решения этой задачи?\n",
        "\n",
        "- Один из выходов нейронной сети должен говорить о вероятности нахождения на картинке объекта. (p)\n",
        "- Параметризация прямоугольника, включащего в себя объект $x_c, y_c$ - координаты центра\n",
        "- ширина (w) и высота (h)\n",
        "\n",
        "Эта задача будет решаться с некоторым количеством ограничений:\n",
        "- на картинке может быть либо один объект, либо ни одного\n",
        "- если центр объекта лежит в пределах картинки, то мы считаем, что объект на картинке есть, в ином случае, мы считаем, что его нет.\n",
        "- объект может выходить за пределы картинки"
      ],
      "metadata": {
        "id": "VNCkfTwKQLuC"
      }
    },
    {
      "cell_type": "markdown",
      "source": [
        "На выход вероятности можно использовать сигмоидную функцию активации.\n",
        "\n",
        "На выходы центра можно также использовать сигмоидную функции активации. Таким образом мы сможем задать центр объекта относительно картинки.\n",
        "\n",
        "Высота и ширина - экспоненты от соответствующих выходов\n",
        "\n",
        "На выходы вероятности, центра в качестве функции потерь можно использовать бинарную кросс энтропию\n",
        "\n",
        "В качестве функции потерь для высоты и ширины можно использовать средний квадрат ошибки от выхода сети до функции активации с логарифмом таргетного значения\n",
        "\n",
        "$$\n",
        "p = \\sigma(y_0);    BCE(\\sigma(y_0), \\widetilde{I})\\\\\n",
        "x_c = \\sigma(y_1);  BCE(\\sigma(y_1), \\widetilde{x_c})\\\\\n",
        "y_c = \\sigma(y_2);  BCE(\\sigma(y_2), \\widetilde{y_c})\\\\\n",
        "w = \\exp(y_3);      MSE(y_3, \\log{\\widetilde w})\\\\\n",
        "h = \\exp(y_4);      MSE(y_4, \\log{\\widetilde h})\n",
        "$$\n",
        "\n",
        "$$\n",
        "L = BCE(\\sigma(y_0), \\widetilde{w}) + \\widetilde I \\Bigg(BCE(\\sigma(y_1), \\widetilde{x_c})+BCE(\\sigma(y_2), \\widetilde{y_c})+MSE(y_3, \\log{\\widetilde w}))+MSE(y_4, \\log{\\widetilde h}\\Bigg)\n",
        "$$"
      ],
      "metadata": {
        "id": "vc3k3dDARkxN"
      }
    },
    {
      "cell_type": "markdown",
      "source": [
        "### Сегментация"
      ],
      "metadata": {
        "id": "Yaq4cGoTXJYh"
      }
    },
    {
      "cell_type": "markdown",
      "source": [
        "На выходе из нейросети будет картинка, где каждый пиксель дифференцируется(есть кот или нет)\n",
        "\n",
        "Функция активации - сигмоида\n",
        "Функция потерь - бинарная кросс энтропия по каждому пикселю и сложения по всех картинке\n",
        "\n",
        "$$\n",
        "L = \\sum_j BCE(\\sigma(y_j), t_j)\n",
        "$$"
      ],
      "metadata": {
        "id": "vKaqeGF2XyKI"
      }
    },
    {
      "cell_type": "markdown",
      "source": [
        "### Задача сжатия размерности"
      ],
      "metadata": {
        "id": "zpgPeZm2Yqbn"
      }
    },
    {
      "cell_type": "markdown",
      "source": [
        "Это задача попадает в разряд задач обучения без учителя.\n",
        "\n",
        "Сделать сеть, которую будем называть кодировщиком(инкодер). Она будет выдавать сжатое представление картинки(имбеддинг). Это изображение мы будем расшифровать при помощи сети, которая называется декодировщик(декодер). В результате мы должны получать такую же картинку, какая была на входе.\n",
        "\n",
        "В качестве лосс функции можно взять среднеквадратичную ошибку между тем, что было и что получилось.\n",
        "\n",
        "$$\n",
        "L = \\sum_j MSE(Img_j, \\widetilde{Img_j})\n",
        "$$"
      ],
      "metadata": {
        "id": "bEJZVd00YtKm"
      }
    },
    {
      "cell_type": "markdown",
      "source": [
        "### Задача SuperResolution"
      ],
      "metadata": {
        "id": "VePgk3mpZ9mN"
      }
    },
    {
      "cell_type": "markdown",
      "source": [
        "Cуть: увеличени изображения\n",
        "\n",
        "Мы берём картинки, сжимаем их, отдаём нейросети и результат сравниваем с исходным"
      ],
      "metadata": {
        "id": "cwrRq9Cqa-Al"
      }
    },
    {
      "cell_type": "markdown",
      "source": [
        "## Строим первую нейронную сеть"
      ],
      "metadata": {
        "id": "gn7EOjXqzMY5"
      }
    },
    {
      "cell_type": "code",
      "source": [
        "import torch\n",
        "import matplotlib.pyplot as plt\n",
        "import matplotlib\n",
        "matplotlib.rcParams['figure.figsize'] = (13.0, 5.0)\n",
        "# .rcParams - словарь из глобальный настроек графиков\n",
        "# figure.figsize - размер графика"
      ],
      "metadata": {
        "id": "wBCxSZBTzdXH"
      },
      "execution_count": null,
      "outputs": []
    },
    {
      "cell_type": "markdown",
      "source": [
        "### Тренировочный датасет"
      ],
      "metadata": {
        "id": "UaeLViz70jfP"
      }
    },
    {
      "cell_type": "code",
      "source": [
        "x_train = torch.rand(100) #сто рандомных точек в интервале от 0 до 1. генерация из равномерного распределения\n",
        "x_train = x_train * 20 - 10 #расставляем точки примерно по центру графика\n",
        "y_train = torch.sin(x_train) #так как мы будем решать задачу регрессии для синуса, то игрик - синус от икса\n",
        "plt.plot(x_train.numpy(), y_train.numpy(), 'o') #создаём график, передаём координаты точек по иксу и по игреку, \"о\" - стиль, в нашем случае точка\n",
        "plt.title('$y=sin(x)$') #названия графика в латех представлении"
      ],
      "metadata": {
        "colab": {
          "base_uri": "https://localhost:8080/",
          "height": 487
        },
        "id": "DhUIe7dE0ltP",
        "outputId": "ff3dc96f-c4f9-412b-b6fb-a6ca85ab166f"
      },
      "execution_count": null,
      "outputs": [
        {
          "output_type": "execute_result",
          "data": {
            "text/plain": [
              "Text(0.5, 1.0, '$y=sin(x)$')"
            ]
          },
          "metadata": {},
          "execution_count": 40
        },
        {
          "output_type": "display_data",
          "data": {
            "text/plain": [
              "<Figure size 1300x500 with 1 Axes>"
            ],
            "image/png": "[encoded data removed]"
          },
          "metadata": {}
        }
      ]
    },
    {
      "cell_type": "markdown",
      "source": [
        "Обучающая выборка выглядит просто, поэтому мы добавим в неё немного шума"
      ],
      "metadata": {
        "id": "LrBnThvU2LVX"
      }
    },
    {
      "cell_type": "code",
      "source": [
        "noise = torch.randn(y_train.shape) / 5 #генерация из нормального распределения\n",
        "plt.plot(x_train.numpy(), noise.numpy(), 'o')\n",
        "plt.axis([-10, 10, -1, 1]) #задаём максимальная и минимальные значения осей по иксу и игреку\n",
        "plt.title('Gaussian noise')"
      ],
      "metadata": {
        "colab": {
          "base_uri": "https://localhost:8080/",
          "height": 485
        },
        "id": "kaDG3j5v2P6l",
        "outputId": "706551b7-4869-4e40-84e8-27ebb6179311"
      },
      "execution_count": null,
      "outputs": [
        {
          "output_type": "execute_result",
          "data": {
            "text/plain": [
              "Text(0.5, 1.0, 'Gaussian noise')"
            ]
          },
          "metadata": {},
          "execution_count": 41
        },
        {
          "output_type": "display_data",
          "data": {
            "text/plain": [
              "<Figure size 1300x500 with 1 Axes>"
            ],
            "image/png": "[encoded data removed]"
          },
          "metadata": {}
        }
      ]
    },
    {
      "cell_type": "markdown",
      "source": [
        "Этот шум прибавим к каждой точке предыдущего графика(по игреку)"
      ],
      "metadata": {
        "id": "mKfJ-pmE33jN"
      }
    },
    {
      "cell_type": "code",
      "source": [
        "y_train += noise\n",
        "plt.plot(x_train, y_train, 'o')\n",
        "plt.title('noisy sin(x)')\n",
        "plt.xlabel('x_train') #название осей\n",
        "plt.ylabel('y_train')"
      ],
      "metadata": {
        "colab": {
          "base_uri": "https://localhost:8080/",
          "height": 504
        },
        "id": "B8hEU9kQ36es",
        "outputId": "321ab9e8-833e-4612-f1fe-6ea1e10e6e70"
      },
      "execution_count": null,
      "outputs": [
        {
          "output_type": "execute_result",
          "data": {
            "text/plain": [
              "Text(0, 0.5, 'y_train')"
            ]
          },
          "metadata": {},
          "execution_count": 60
        },
        {
          "output_type": "display_data",
          "data": {
            "text/plain": [
              "<Figure size 1300x500 with 1 Axes>"
            ],
            "image/png": "[encoded data removed]"
          },
          "metadata": {}
        }
      ]
    },
    {
      "cell_type": "markdown",
      "source": [
        "когда мы будем передавать в нейросеть данные, необходимо сделать их правильной размерности. Это делает метод .unsqeeze(1)"
      ],
      "metadata": {
        "id": "LvR6SK0x4UqI"
      }
    },
    {
      "cell_type": "code",
      "source": [
        "x_train.unsqueeze_(1) #транспонирование одномерного вектора. Нижние подчеркивание означает трансформацию объекта\n",
        "y_train.unsqueeze_(1); #точка с запятой, чтобы не видеть вывод"
      ],
      "metadata": {
        "id": "qtvEQ1pL4uYo"
      },
      "execution_count": null,
      "outputs": []
    },
    {
      "cell_type": "markdown",
      "source": [
        "### Validation dataset"
      ],
      "metadata": {
        "id": "iBF8oxJG7G2B"
      }
    },
    {
      "cell_type": "code",
      "source": [
        "x_validation = torch.linspace(-10,10,100) #создание 100 точек равномерно распределённых вдоль интервала [-10, 10]\n",
        "y_validation = torch.sin(x_validation.data)\n",
        "plt.plot(x_validation.numpy(), y_validation.numpy(), 'o')\n",
        "plt.title('validation sin(x)')\n",
        "plt.xlabel('x_validation')\n",
        "plt.ylabel('y_validation')"
      ],
      "metadata": {
        "colab": {
          "base_uri": "https://localhost:8080/",
          "height": 504
        },
        "id": "lLqwJrSY7Kkm",
        "outputId": "47d7ac69-0cda-4981-96f1-b10a7f1b9fff"
      },
      "execution_count": null,
      "outputs": [
        {
          "output_type": "execute_result",
          "data": {
            "text/plain": [
              "Text(0, 0.5, 'y_validation')"
            ]
          },
          "metadata": {},
          "execution_count": 46
        },
        {
          "output_type": "display_data",
          "data": {
            "text/plain": [
              "<Figure size 1300x500 with 1 Axes>"
            ],
            "image/png": "[encoded data removed]"
          },
          "metadata": {}
        }
      ]
    },
    {
      "cell_type": "code",
      "source": [
        "x_validation.unsqueeze_(1)\n",
        "y_validation.unsqueeze_(1); # установка правильной размерности"
      ],
      "metadata": {
        "id": "u7c8bzit8czL"
      },
      "execution_count": null,
      "outputs": []
    },
    {
      "cell_type": "markdown",
      "source": [
        "### model construction"
      ],
      "metadata": {
        "id": "jofGixYR89_L"
      }
    },
    {
      "cell_type": "code",
      "source": [
        "class SineNet(torch.nn.Module): #мы наследуем от данного модуля, потому что в нём есть необходимые нам модули\n",
        "  def __init__(self, n_hidden_neurons): #функция инициализации. В неё передаются те аргументы, что используются в момент конструирования нейросети\n",
        "    #мы передаём количество нейронов скрытого слоя\n",
        "    #мы предполагаем, что все слои будут одинакового размера\n",
        "    #когда мы создаём слои, они инициализируются некоторыми случайными числами\n",
        "\n",
        "    super(SineNet, self).__init__() #инициализируем родительский объект\n",
        "\n",
        "    #теперь создаём слои\n",
        "    #первый слой fc1 - fully connected layer. Он полносвязный\n",
        "    self.fc1 = torch.nn.Linear(1, n_hidden_neurons) #в пайторче полносвязные слой называется Linear\n",
        "    #мы передаём количество входных нейронов(1) и количество выходных нейронов (n_hidden_neurons)\n",
        "    #это по сути не сам нейрон, а вход в него, координата нашей точки, по которой мы будем что-то предсказывать\n",
        "\n",
        "    #создаём функцию активации\n",
        "    self.act1 = torch.nn.Sigmoid()\n",
        "    #будем использовать сигмоидную функцию активации\n",
        "\n",
        "    #создадим ещё один полносвязный слой. Это будет один нейрон. Он будет ответом на вопрос\n",
        "    self.fc2 = torch.nn.Linear(n_hidden_neurons, 1)\n",
        "\n",
        "  #теперь необходимо написать функцию описывающую то, как наши слои последовательно применяются\n",
        "  def forward(self, x): #x - переменная, с которой мы будем работать\n",
        "    x = self.fc1(x)\n",
        "    x = self.act1(x)\n",
        "    x = self.fc2(x)\n",
        "    return x\n",
        "\n",
        "sine_net = SineNet(50) #создание нейросети"
      ],
      "metadata": {
        "id": "utHJpftH9Ax0"
      },
      "execution_count": null,
      "outputs": []
    },
    {
      "cell_type": "markdown",
      "source": [
        "### Prediction"
      ],
      "metadata": {
        "id": "frFSWHyiB_k9"
      }
    },
    {
      "cell_type": "code",
      "source": [
        "def predict(net, x, y):\n",
        "  y_pred = net.forward(x)\n",
        "  plt.plot(x.numpy(), y.numpy(), 'o', label='Groud truth')\n",
        "  plt.plot(x.numpy(), y_pred.data.numpy(), 'o', c='r', label='Prediction')\n",
        "  plt.legend(loc = 'upper left')\n",
        "  plt.xlabel('x')\n",
        "  plt.ylabel('y')\n",
        "predict(sine_net, x_validation, y_validation)"
      ],
      "metadata": {
        "colab": {
          "base_uri": "https://localhost:8080/",
          "height": 465
        },
        "id": "tOwb03oJCCUZ",
        "outputId": "94542593-425b-45ba-87f7-ca553a55fb5f"
      },
      "execution_count": null,
      "outputs": [
        {
          "output_type": "display_data",
          "data": {
            "text/plain": [
              "<Figure size 1300x500 with 1 Axes>"
            ],
            "image/png": "[encoded data removed]"
          },
          "metadata": {}
        }
      ]
    },
    {
      "cell_type": "markdown",
      "source": [
        "### Optimizer"
      ],
      "metadata": {
        "id": "0yAXDfqIGH2I"
      }
    },
    {
      "cell_type": "code",
      "source": [
        "#оптимизатор - объект, совершающий шаги градиентного спуска\n",
        "optimizer = torch.optim.Adam(sine_net.parameters(), lr = 0.01)\n",
        "#.parameters - веса нейронной сети"
      ],
      "metadata": {
        "id": "_gf1vTPOGKMY"
      },
      "execution_count": null,
      "outputs": []
    },
    {
      "cell_type": "markdown",
      "source": [
        "### Loss function"
      ],
      "metadata": {
        "id": "go60DnwCGyxI"
      }
    },
    {
      "cell_type": "code",
      "source": [
        "def loss(pred, target):\n",
        "  squares = (pred - target) ** 2 #MSE function\n",
        "  return squares.mean()"
      ],
      "metadata": {
        "id": "EwNQ_2vnG0nz"
      },
      "execution_count": null,
      "outputs": []
    },
    {
      "cell_type": "markdown",
      "source": [
        "### Training procedure"
      ],
      "metadata": {
        "id": "t3UcjOyGHRUQ"
      }
    },
    {
      "cell_type": "code",
      "source": [
        "for epoch_index in range(2000):\n",
        "  optimizer.zero_grad()\n",
        "  #сначала зануляем градиент\n",
        "\n",
        "  y_pred = sine_net.forward(x_train)\n",
        "  #скармливаем датасет нашей нейросети\n",
        "\n",
        "  loss_val = loss(y_pred, y_train)\n",
        "  #значение потерь\n",
        "\n",
        "  loss_val.backward()\n",
        "  #подсчёт градиентов\n",
        "\n",
        "  optimizer.step()\n",
        "  #шаг градиента\n",
        "\n",
        "predict(sine_net, x_validation, y_validation)"
      ],
      "metadata": {
        "colab": {
          "base_uri": "https://localhost:8080/",
          "height": 465
        },
        "id": "psU3fE_7HVMf",
        "outputId": "8133235c-d193-492f-ec43-35d3d3493eb9"
      },
      "execution_count": null,
      "outputs": [
        {
          "output_type": "display_data",
          "data": {
            "text/plain": [
              "<Figure size 1300x500 with 1 Axes>"
            ],
            "image/png": "[encoded data removed]"
          },
          "metadata": {}
        }
      ]
    },
    {
      "cell_type": "markdown",
      "source": [
        "## Классификация в pytorch"
      ],
      "metadata": {
        "id": "lGU21BGTp1pP"
      }
    },
    {
      "cell_type": "markdown",
      "source": [
        "Каждый раз генерируются рандомные значения. Из-за этого тяжело отслеживать то, что улучается наша сеть или. Для этого надо зафиксировать рандомный сид"
      ],
      "metadata": {
        "id": "bE9LAAl4F_zu"
      }
    },
    {
      "cell_type": "code",
      "source": [
        "import torch\n",
        "import random\n",
        "import numpy as np\n",
        "\n",
        "random.seed(0) #установка сид генератора случайных чисел модуля рандом\n",
        "np.random.seed(0) #установка сида генератора случайных чисел нампая\n",
        "torch.manual_seed(0) #установка сида генератора случайных чисел пайторча на cpu\n",
        "torch.cuda.manual_seed(0) #установка сида генератора случайных чисел пайторча на gpu\n",
        "torch.backends.cudnn.deterministic = True #добавление возможности воспроизводимости результата при использовании библиотеки CuDNN для вычисления на gpu"
      ],
      "metadata": {
        "id": "nibZOtbmGNq_"
      },
      "execution_count": 1,
      "outputs": []
    },
    {
      "cell_type": "markdown",
      "source": [
        "Для задачи классификации будем использовать датасет wine"
      ],
      "metadata": {
        "id": "3Th5iHiIHnZu"
      }
    },
    {
      "cell_type": "code",
      "source": [
        "import sklearn.datasets #в этом модуле есть датасет wine\n",
        "wine = sklearn.datasets.load_wine() #импорт датасета wine\n",
        "wine.data.shape #178 различных бутылок вин. У каждой 13 параметров. Есть три класса, на которые можно классифицировать конкретную бутылку"
      ],
      "metadata": {
        "colab": {
          "base_uri": "https://localhost:8080/"
        },
        "id": "7bo-1CEXHu5s",
        "outputId": "e8d9f067-df2b-48ff-a050-c73442b54e19"
      },
      "execution_count": 4,
      "outputs": [
        {
          "output_type": "execute_result",
          "data": {
            "text/plain": [
              "(178, 13)"
            ]
          },
          "metadata": {},
          "execution_count": 4
        }
      ]
    },
    {
      "cell_type": "code",
      "source": [
        "from sklearn.model_selection import train_test_split #импорт необходимой функции\n",
        "\n",
        "X_train, X_test, Y_train, Y_test = train_test_split( #разбиение на тренировочный и тестирующий датасеты\n",
        "    wine.data[:, :2], #указываем датасет, в нашем случае первые две калонки для удобства визуализации\n",
        "    wine.target, #таргетные значения\n",
        "    test_size = 0.3, #указываем размер тестирующей выборки\n",
        "    shuffle = True #перемешиваем датасет на случай, если он был отсортирован\n",
        ")\n",
        "X_train = torch.FloatTensor(X_train) #дробное число\n",
        "X_test = torch.FloatTensor(X_test) #дробное число\n",
        "Y_train = torch.LongTensor(Y_train) #целые числа\n",
        "Y_test = torch.LongTensor(Y_test) #целые числа"
      ],
      "metadata": {
        "id": "3U4R7wWyINWg"
      },
      "execution_count": 9,
      "outputs": []
    },
    {
      "cell_type": "code",
      "source": [
        "class WineNet(torch.nn.Module):\n",
        "  def __init__(self, n_hidden_neurons):\n",
        "    super(WineNet, self).__init__()\n",
        "    self.fc1 = torch.nn.Linear(2, n_hidden_neurons)\n",
        "    self.act1 = torch.nn.Sigmoid()\n",
        "    #self.fc2 = torch.nn.Linear(n_hidden_neurons, n_hidden_neurons)\n",
        "    #self.act2 = torch.nn.Sigmoid()\n",
        "    self.fc3 = torch.nn.Linear(n_hidden_neurons, 3)\n",
        "    self.sm = torch.nn.Softmax(dim = 1) #применение функции по каждой строке\n",
        "\n",
        "  def forward(self, x):\n",
        "    x = self.fc1(x)\n",
        "    x = self.act1(x)\n",
        "    #x = self.fc2(x)\n",
        "    #x = self.act2(x)\n",
        "    x = self.fc3(x)\n",
        "    return(x)\n",
        "    #поскольку функция потерь - кросс энтропия, то нам нужны выходы, а не результат после софтмакса. Поэтому софтмакс будет отдельно\n",
        "    #функция софтмакс долгая для вычисления, поэтому для оптимизации мы её считаем позже.\n",
        "    #из-за того, что софтмакс долгая для вычисления, её нужно стараться избегать\n",
        "\n",
        "  def inference(self, x):\n",
        "    x = self.forward(x)\n",
        "    x = self.sm(x)\n",
        "    return x\n",
        "\n",
        "wine_net = WineNet(12)"
      ],
      "metadata": {
        "id": "AbzoPA40LBFT"
      },
      "execution_count": 37,
      "outputs": []
    },
    {
      "cell_type": "code",
      "source": [
        "loss = torch.nn.CrossEntropyLoss()\n",
        "#функция кросс энтропии использующая выходы до их прохода через софтмакс\n",
        "\n",
        "optimizer = torch.optim.Adam(wine_net.parameters(), lr=0.02) #0.001 - стандартное значение обучения"
      ],
      "metadata": {
        "id": "1oW6iXAANjng"
      },
      "execution_count": 38,
      "outputs": []
    },
    {
      "cell_type": "code",
      "source": [
        "np.random.permutation(5)"
      ],
      "metadata": {
        "colab": {
          "base_uri": "https://localhost:8080/"
        },
        "id": "2O4gW9p0O-0f",
        "outputId": "de92779c-ce7e-47a1-adef-7fe29ef90dc6"
      },
      "execution_count": 12,
      "outputs": [
        {
          "output_type": "execute_result",
          "data": {
            "text/plain": [
              "array([3, 1, 4, 0, 2])"
            ]
          },
          "metadata": {},
          "execution_count": 12
        }
      ]
    },
    {
      "cell_type": "code",
      "source": [
        "batch_size = len(X_train)\n",
        "\n",
        "for epoch in range(10000):\n",
        "  order = np.random.permutation(len(X_train)) #индексы\n",
        "  #мы будем из порядка вырезать участки длиной batch_size\n",
        "  for start_index in range(0, len(X_train), batch_size):\n",
        "    optimizer.zero_grad()\n",
        "\n",
        "    batch_indexes = order[start_index:start_index + batch_size]\n",
        "\n",
        "    x_batch = X_train[batch_indexes]\n",
        "    y_batch = Y_train[batch_indexes]\n",
        "\n",
        "    preds = wine_net.forward(x_batch)\n",
        "\n",
        "    loss_val = loss(preds, y_batch)\n",
        "    loss_val.backward()\n",
        "\n",
        "    optimizer.step()\n",
        "\n",
        "  if epoch % 100 == 0:\n",
        "    test_preds = wine_net.forward(X_test)\n",
        "    test_preds = test_preds.argmax(dim = 1) #максимальный выход по строкам\n",
        "    print((test_preds == Y_test).float().mean())"
      ],
      "metadata": {
        "colab": {
          "base_uri": "https://localhost:8080/"
        },
        "id": "l-CcyFaQPKk9",
        "outputId": "a27d2f81-d47f-41a8-9980-2c493e11668d"
      },
      "execution_count": 43,
      "outputs": [
        {
          "output_type": "stream",
          "name": "stdout",
          "text": [
            "tensor(0.6852)\n",
            "tensor(0.6852)\n",
            "tensor(0.6852)\n",
            "tensor(0.6852)\n",
            "tensor(0.6852)\n",
            "tensor(0.6852)\n",
            "tensor(0.6667)\n",
            "tensor(0.6667)\n",
            "tensor(0.6667)\n",
            "tensor(0.6852)\n",
            "tensor(0.6852)\n",
            "tensor(0.6852)\n",
            "tensor(0.6852)\n",
            "tensor(0.6667)\n",
            "tensor(0.6667)\n",
            "tensor(0.6667)\n",
            "tensor(0.6667)\n",
            "tensor(0.6667)\n",
            "tensor(0.6667)\n",
            "tensor(0.6667)\n",
            "tensor(0.6667)\n",
            "tensor(0.6667)\n",
            "tensor(0.6667)\n",
            "tensor(0.6667)\n",
            "tensor(0.6481)\n",
            "tensor(0.6481)\n",
            "tensor(0.6481)\n",
            "tensor(0.6481)\n",
            "tensor(0.6481)\n",
            "tensor(0.6481)\n",
            "tensor(0.6481)\n",
            "tensor(0.6481)\n",
            "tensor(0.6481)\n",
            "tensor(0.6667)\n",
            "tensor(0.6667)\n",
            "tensor(0.6481)\n",
            "tensor(0.6481)\n",
            "tensor(0.6481)\n",
            "tensor(0.6481)\n",
            "tensor(0.6481)\n",
            "tensor(0.6481)\n",
            "tensor(0.6481)\n",
            "tensor(0.6481)\n",
            "tensor(0.6481)\n",
            "tensor(0.6481)\n",
            "tensor(0.6481)\n",
            "tensor(0.6481)\n",
            "tensor(0.6481)\n",
            "tensor(0.6667)\n",
            "tensor(0.6481)\n",
            "tensor(0.6481)\n",
            "tensor(0.6481)\n",
            "tensor(0.6481)\n",
            "tensor(0.6481)\n",
            "tensor(0.6481)\n",
            "tensor(0.6481)\n",
            "tensor(0.6481)\n",
            "tensor(0.6481)\n",
            "tensor(0.6481)\n",
            "tensor(0.6481)\n",
            "tensor(0.6481)\n",
            "tensor(0.6481)\n",
            "tensor(0.6481)\n",
            "tensor(0.6667)\n",
            "tensor(0.6481)\n",
            "tensor(0.6481)\n",
            "tensor(0.6481)\n",
            "tensor(0.6481)\n",
            "tensor(0.6481)\n",
            "tensor(0.6481)\n",
            "tensor(0.6481)\n",
            "tensor(0.6481)\n",
            "tensor(0.6481)\n",
            "tensor(0.6481)\n",
            "tensor(0.6481)\n",
            "tensor(0.6481)\n",
            "tensor(0.6667)\n",
            "tensor(0.6481)\n",
            "tensor(0.6481)\n",
            "tensor(0.6481)\n",
            "tensor(0.6481)\n",
            "tensor(0.6481)\n",
            "tensor(0.6481)\n",
            "tensor(0.6481)\n",
            "tensor(0.6481)\n",
            "tensor(0.6481)\n",
            "tensor(0.6481)\n",
            "tensor(0.6481)\n",
            "tensor(0.6481)\n",
            "tensor(0.6481)\n",
            "tensor(0.6667)\n",
            "tensor(0.6481)\n",
            "tensor(0.6481)\n",
            "tensor(0.6481)\n",
            "tensor(0.6481)\n",
            "tensor(0.6481)\n",
            "tensor(0.6481)\n",
            "tensor(0.6481)\n",
            "tensor(0.6481)\n",
            "tensor(0.6481)\n"
          ]
        }
      ]
    },
    {
      "cell_type": "code",
      "source": [
        "import matplotlib.pyplot as plt\n",
        "%matplotlib inline\n",
        "\n",
        "plt.rcParams['figure.figsize'] = (10, 8)\n",
        "\n",
        "n_classes = 3\n",
        "plot_colors = ['g', 'orange', 'black']\n",
        "plot_step = 0.02\n",
        "\n",
        "x_min, x_max = X_train[:, 0].min() - 1, X_train[:, 0].max() + 1\n",
        "y_min, y_max = X_train[:, 1].min() - 1, X_train[:, 1].max() + 1\n",
        "\n",
        "xx, yy =  torch.meshgrid(torch.arange(x_min, x_max, plot_step),\n",
        "                         torch.arange(y_min, y_max, plot_step))\n",
        "\n",
        "preds = wine_net.inference(\n",
        "    torch.cat([xx.reshape(-1, 1), yy.reshape(-1, 1)], dim=1))\n",
        "\n",
        "preds_class = preds.data.numpy().argmax(axis=1)\n",
        "preds_class = preds_class.reshape(xx.shape)\n",
        "plt.contourf(xx, yy, preds_class, cmap='Accent')\n",
        "\n",
        "for i, color in zip(range(n_classes), plot_colors):\n",
        "    indexes = np.where(Y_train == i)\n",
        "    plt.scatter(X_train[indexes, 0],\n",
        "                X_train[indexes, 1],\n",
        "                c=color,\n",
        "                label=wine.target_names[i],\n",
        "                cmap='Accent')\n",
        "    plt.xlabel(wine.feature_names[0])\n",
        "    plt.ylabel(wine.feature_names[1])\n",
        "    plt.legend()"
      ],
      "metadata": {
        "colab": {
          "base_uri": "https://localhost:8080/",
          "height": 731
        },
        "id": "JAsSmELxRx61",
        "outputId": "e124d85a-527c-431c-9975-06db3b33cbd7"
      },
      "execution_count": 44,
      "outputs": [
        {
          "output_type": "stream",
          "name": "stderr",
          "text": [
            "<ipython-input-44-5558c244c6d6>:25: UserWarning: No data for colormapping provided via 'c'. Parameters 'cmap' will be ignored\n",
            "  plt.scatter(X_train[indexes, 0],\n"
          ]
        },
        {
          "output_type": "display_data",
          "data": {
            "text/plain": [
              "<Figure size 1000x800 with 1 Axes>"
            ],
            "image/png": "[encoded data removed]"
          },
          "metadata": {}
        }
      ]
    }
  ],
  "metadata": {
    "kernelspec": {
      "display_name": "base",
      "language": "python",
      "name": "python3"
    },
    "language_info": {
      "codemirror_mode": {
        "name": "ipython",
        "version": 3
      },
      "file_extension": ".py",
      "mimetype": "text/x-python",
      "name": "python",
      "nbconvert_exporter": "python",
      "pygments_lexer": "ipython3",
      "version": "3.9.12"
    },
    "orig_nbformat": 4,
    "colab": {
      "provenance": [],
      "include_colab_link": true
    }
  },
  "nbformat": 4,
  "nbformat_minor": 0
}